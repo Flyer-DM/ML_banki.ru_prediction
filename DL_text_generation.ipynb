{
 "cells": [
  {
   "cell_type": "markdown",
   "metadata": {
    "id": "J4ILbHNB08tv"
   },
   "source": [
    "# Генерация текстов на основе LSTM"
   ]
  },
  {
   "cell_type": "code",
   "execution_count": 17,
   "metadata": {
    "colab": {
     "base_uri": "https://localhost:8080/"
    },
    "executionInfo": {
     "elapsed": 665,
     "status": "ok",
     "timestamp": 1700069240700,
     "user": {
      "displayName": "Flyer Kon",
      "userId": "03371542717507711709"
     },
     "user_tz": -180
    },
    "id": "iaJoQh_F2cw_",
    "outputId": "7abc01cb-413e-45f9-d3f5-710bbee7b373"
   },
   "outputs": [
    {
     "name": "stdout",
     "output_type": "stream",
     "text": [
      "cuda\n"
     ]
    },
    {
     "name": "stderr",
     "output_type": "stream",
     "text": [
      "[nltk_data] Downloading package punkt to /root/nltk_data...\n",
      "[nltk_data]   Package punkt is already up-to-date!\n",
      "[nltk_data] Downloading package wordnet to /root/nltk_data...\n",
      "[nltk_data]   Package wordnet is already up-to-date!\n"
     ]
    }
   ],
   "source": [
    "import re\n",
    "import random\n",
    "import nltk\n",
    "import torch\n",
    "import zipfile\n",
    "import sqlite3\n",
    "import numpy as np\n",
    "import pandas as pd\n",
    "from collections import Counter\n",
    "from torchtext.vocab import build_vocab_from_iterator\n",
    "from torch.utils.data import DataLoader, TensorDataset\n",
    "from tqdm import tqdm\n",
    "from nltk.corpus import wordnet\n",
    "\n",
    "nltk.download('punkt')\n",
    "nltk.download('wordnet')\n",
    "device = \"cuda\" if torch.cuda.is_available() else \"cpu\"\n",
    "print(device)"
   ]
  },
  {
   "cell_type": "code",
   "execution_count": 2,
   "metadata": {
    "colab": {
     "base_uri": "https://localhost:8080/"
    },
    "executionInfo": {
     "elapsed": 477,
     "status": "ok",
     "timestamp": 1700066199798,
     "user": {
      "displayName": "Flyer Kon",
      "userId": "03371542717507711709"
     },
     "user_tz": -180
    },
    "id": "iFDMGd6L1WwS",
    "outputId": "0352b16e-8b85-4a96-f81a-350ecab33cd4"
   },
   "outputs": [
    {
     "name": "stdout",
     "output_type": "stream",
     "text": [
      "--2023-11-15 16:36:38--  https://s3.amazonaws.com/text-datasets/nietzsche.txt\n",
      "Resolving s3.amazonaws.com (s3.amazonaws.com)... 52.217.68.166, 52.217.230.208, 54.231.203.168, ...\n",
      "Connecting to s3.amazonaws.com (s3.amazonaws.com)|52.217.68.166|:443... connected.\n",
      "HTTP request sent, awaiting response... 200 OK\n",
      "Length: 600901 (587K) [text/plain]\n",
      "Saving to: ‘nietzsche.txt’\n",
      "\n",
      "nietzsche.txt       100%[===================>] 586.82K  1.88MB/s    in 0.3s    \n",
      "\n",
      "2023-11-15 16:36:39 (1.88 MB/s) - ‘nietzsche.txt’ saved [600901/600901]\n",
      "\n"
     ]
    }
   ],
   "source": [
    "!wget https://s3.amazonaws.com/text-datasets/nietzsche.txt"
   ]
  },
  {
   "cell_type": "code",
   "execution_count": 3,
   "metadata": {
    "executionInfo": {
     "elapsed": 2,
     "status": "ok",
     "timestamp": 1700066199798,
     "user": {
      "displayName": "Flyer Kon",
      "userId": "03371542717507711709"
     },
     "user_tz": -180
    },
    "id": "p-OuIwvg0pjW"
   },
   "outputs": [],
   "source": [
    "with open('nietzsche.txt', 'r', encoding='utf-8') as file:\n",
    "  text = file.read().lower()"
   ]
  },
  {
   "cell_type": "markdown",
   "metadata": {
    "id": "NWDjdVsB1rI4"
   },
   "source": [
    "длина всего корпуса:"
   ]
  },
  {
   "cell_type": "code",
   "execution_count": null,
   "metadata": {
    "colab": {
     "base_uri": "https://localhost:8080/"
    },
    "id": "-j4U9rcg1tPp",
    "outputId": "54e4d9b3-46bd-4808-d52b-05acc2eb4bd6"
   },
   "outputs": [
    {
     "data": {
      "text/plain": [
       "600893"
      ]
     },
     "execution_count": 5,
     "metadata": {},
     "output_type": "execute_result"
    }
   ],
   "source": [
    "len(text)"
   ]
  },
  {
   "cell_type": "markdown",
   "metadata": {
    "id": "u-TLe17K1zo_"
   },
   "source": [
    "количество предложений:"
   ]
  },
  {
   "cell_type": "code",
   "execution_count": null,
   "metadata": {
    "colab": {
     "base_uri": "https://localhost:8080/"
    },
    "id": "a1-8DPDE2AzR",
    "outputId": "23d11e7e-4037-44ff-9f11-4fa6cb2924de"
   },
   "outputs": [
    {
     "data": {
      "text/plain": [
       "2864"
      ]
     },
     "execution_count": 6,
     "metadata": {},
     "output_type": "execute_result"
    }
   ],
   "source": [
    "len(nltk.tokenize.sent_tokenize(text))"
   ]
  },
  {
   "cell_type": "markdown",
   "metadata": {
    "id": "c7CV1bxd3Lxx"
   },
   "source": [
    "всего уникальных символов:"
   ]
  },
  {
   "cell_type": "code",
   "execution_count": null,
   "metadata": {
    "colab": {
     "base_uri": "https://localhost:8080/"
    },
    "id": "qzfNk6gR3MWF",
    "outputId": "5c10eefd-658d-4eaf-ec7a-bcd862446182"
   },
   "outputs": [
    {
     "data": {
      "text/plain": [
       "57"
      ]
     },
     "execution_count": 7,
     "metadata": {},
     "output_type": "execute_result"
    }
   ],
   "source": [
    "len(Counter(text))"
   ]
  },
  {
   "cell_type": "markdown",
   "metadata": {
    "id": "05LVqEummCdU"
   },
   "source": [
    "Построим torch vocabulary из уникальных символов для обучения будущей модели. В данном случае целевой переменной будет следующий символ за последовательностью символов:"
   ]
  },
  {
   "cell_type": "code",
   "execution_count": 4,
   "metadata": {
    "colab": {
     "base_uri": "https://localhost:8080/"
    },
    "executionInfo": {
     "elapsed": 5678,
     "status": "ok",
     "timestamp": 1700066205474,
     "user": {
      "displayName": "Flyer Kon",
      "userId": "03371542717507711709"
     },
     "user_tz": -180
    },
    "id": "uMn261HZztHi",
    "outputId": "45223b4c-95ae-4ac0-98f5-240ee814c52b"
   },
   "outputs": [
    {
     "name": "stdout",
     "output_type": "stream",
     "text": [
      "['<unk>', '\\n', ' ', '!', '\"', \"'\", '(', ')', ',', '-', '.', '0', '1', '2', '3', '4', '5', '6', '7', '8', '9', ':', ';', '=', '?', '[', ']', '_', 'a', 'b', 'c', 'd', 'e', 'f', 'g', 'h', 'i', 'j', 'k', 'l', 'm', 'n', 'o', 'p', 'q', 'r', 's', 't', 'u', 'v', 'w', 'x', 'y', 'z', 'ä', 'æ', 'é', 'ë']\n",
      "Всего последовательностей: 200285\n",
      "Размеры Тензоров: torch.Size([200285, 40, 1]) torch.Size([200285])\n",
      "Размеры батчей: torch.Size([1024, 40, 1]) torch.Size([1024])\n"
     ]
    }
   ],
   "source": [
    "vocab = build_vocab_from_iterator([sorted(Counter(text))], min_freq=1,\n",
    "                                  specials=[\"<unk>\"])\n",
    "vocab.set_default_index(vocab[\"<unk>\"])\n",
    "print(vocab.get_itos())\n",
    "\n",
    "maxlen = 40\n",
    "step = 3\n",
    "X_train, Y_train = [], []\n",
    "# получение последовательности в 40 символов каждые 3 символа\n",
    "for i in range(0, len(text) - maxlen, step):\n",
    "    # сохранение последовательности символов\n",
    "    X_train.append(vocab(list(text[i: i + maxlen])))\n",
    "    # сохранение первого символа после последовательности\n",
    "    Y_train.append(vocab(list(text[i + maxlen])))\n",
    "\n",
    "print(\"Всего последовательностей:\", len(X_train))\n",
    "# преобразование полученных чисел в тензоры\n",
    "X_train = torch.tensor(X_train, dtype=torch.float32)\n",
    "Y_train = torch.tensor(Y_train)\n",
    "# дополнительное измерение для lstm слоя\n",
    "X_train = X_train.reshape(X_train.shape[0], X_train.shape[1], 1)\n",
    "Y_train = Y_train.reshape(Y_train.shape[0])\n",
    "print(\"Размеры Тензоров:\", X_train.shape, Y_train.shape)\n",
    "vector_X = TensorDataset(X_train, Y_train)\n",
    "train_loader = DataLoader(vector_X, batch_size=1024, shuffle=False)\n",
    "for X, Y in train_loader:\n",
    "    print(\"Размеры батчей:\", X.shape, Y.shape)\n",
    "    break"
   ]
  },
  {
   "cell_type": "markdown",
   "metadata": {
    "id": "6GAOXgOVelvh"
   },
   "source": [
    "Итого у нас 200 тысяч данных для обучения с 40 признаками. Таргет - один из 58 символов. Vocab кодирует данные по принципу LabelEncoder, то ессть каждому символу присваивается соответствующее число."
   ]
  },
  {
   "cell_type": "markdown",
   "metadata": {
    "id": "imjd0J1h8OMZ"
   },
   "source": [
    "Второй вариант обучения - предсказывать следующее слово:"
   ]
  },
  {
   "cell_type": "code",
   "execution_count": 11,
   "metadata": {
    "colab": {
     "base_uri": "https://localhost:8080/"
    },
    "executionInfo": {
     "elapsed": 4815,
     "status": "ok",
     "timestamp": 1700067199764,
     "user": {
      "displayName": "Flyer Kon",
      "userId": "03371542717507711709"
     },
     "user_tz": -180
    },
    "id": "U5qzLoy2vDyb",
    "outputId": "dccbdc86-fa41-41d0-845e-6ef0616fa2b4"
   },
   "outputs": [
    {
     "name": "stdout",
     "output_type": "stream",
     "text": [
      "Слов в словаре: 9138\n",
      "Всего последовательностей: 23450\n",
      "Размеры Тензоров: torch.Size([23450, 40, 1]) torch.Size([23450])\n",
      "Размеры батчей: torch.Size([1024, 40, 1]) torch.Size([1024])\n"
     ]
    }
   ],
   "source": [
    "# очистка слов от лишних символов (всё, что не латинская буква или пробел)\n",
    "words = re.sub(r'[^a-z\\s]', ' ', text)\n",
    "words = re.sub(r'[\\s]+', ' ', words).split()\n",
    "# проверка, что слово существует (написано без опечатки)\n",
    "words = list(filter(lambda word: len(wordnet.synsets(word)) > 0, words))\n",
    "vocab_words = build_vocab_from_iterator([sorted(Counter(words))], min_freq=1,\n",
    "                                  specials=[\"<unk>\"])\n",
    "vocab_words.set_default_index(vocab_words[\"<unk>\"])\n",
    "print(\"Слов в словаре:\", len(vocab_words))\n",
    "\n",
    "maxlen = 40\n",
    "step = 3\n",
    "X_train_words, Y_train_words = [], []\n",
    "# получение последовательности в 40 слов через каждые 3 слова\n",
    "for i in range(0, len(words) - maxlen, step):\n",
    "    # сохранение последовательности слов\n",
    "    X_train_words.append(vocab_words(words[i: i + maxlen]))\n",
    "    # сохранение первого слова после последовательности\n",
    "    Y_train_words.append(vocab_words[words[i + maxlen]])\n",
    "\n",
    "\n",
    "print(\"Всего последовательностей:\", len(X_train_words))\n",
    "# преобразование полученных чисел в тензоры\n",
    "X_train_words = torch.tensor(X_train_words, dtype=torch.float32)\n",
    "Y_train_words = torch.tensor(Y_train_words)\n",
    "# дополнительное измерение для lstm слоя\n",
    "X_train_words = X_train_words.reshape(X_train_words.shape[0], X_train_words.shape[1], 1)\n",
    "Y_train_words = Y_train_words.reshape(Y_train_words.shape[0])\n",
    "print(\"Размеры Тензоров:\", X_train_words.shape, Y_train_words.shape)\n",
    "vector_X = TensorDataset(X_train_words, Y_train_words)\n",
    "train_loader_words = DataLoader(vector_X, batch_size=1024, shuffle=False)\n",
    "for X, Y in train_loader_words:\n",
    "    print(\"Размеры батчей:\", X.shape, Y.shape)\n",
    "    break"
   ]
  },
  {
   "cell_type": "markdown",
   "metadata": {
    "id": "LUMwnybFfMdr"
   },
   "source": [
    "Данных для обучения почти в 10 раз меньше, а количество таргетов гораздо больше - 9 тысяч уникальных слов. Модель нужно подготовить сложнее, но скорость обучения будет больше."
   ]
  },
  {
   "cell_type": "markdown",
   "metadata": {
    "id": "H3o1Bggo8rOD"
   },
   "source": [
    "## модель LSTM для генерации текста"
   ]
  },
  {
   "cell_type": "code",
   "execution_count": 5,
   "metadata": {
    "executionInfo": {
     "elapsed": 3,
     "status": "ok",
     "timestamp": 1700066205475,
     "user": {
      "displayName": "Flyer Kon",
      "userId": "03371542717507711709"
     },
     "user_tz": -180
    },
    "id": "P4khEEkB3blA"
   },
   "outputs": [],
   "source": [
    "class TextGeneratorLetters(torch.nn.Module):\n",
    "    \"\"\"Модель для генерации текста посимвольно\"\"\"\n",
    "    def __init__(self):\n",
    "        super().__init__()\n",
    "        self.lstm = torch.nn.LSTM(input_size=1, hidden_size=256, num_layers=2,\n",
    "                                  batch_first=True)\n",
    "        self.dropout = torch.nn.Dropout(0.25)\n",
    "        self.linear = torch.nn.Linear(256, len(vocab))\n",
    "\n",
    "    def forward(self, X_batch):\n",
    "        hidden = torch.randn(2, len(X_batch), 256).to(device)\n",
    "        carry = torch.randn(2, len(X_batch), 256).to(device)\n",
    "        output, _ = self.lstm(X_batch, (hidden, carry))\n",
    "        output = self.dropout(output)\n",
    "        output = self.linear(output[:, -1])\n",
    "        return output"
   ]
  },
  {
   "cell_type": "code",
   "execution_count": 12,
   "metadata": {
    "executionInfo": {
     "elapsed": 733,
     "status": "ok",
     "timestamp": 1700067203551,
     "user": {
      "displayName": "Flyer Kon",
      "userId": "03371542717507711709"
     },
     "user_tz": -180
    },
    "id": "DuOG8dxzvrIF"
   },
   "outputs": [],
   "source": [
    "class TextGeneratorWords(torch.nn.Module):\n",
    "    \"\"\"Модель для генерации текста пословно\"\"\"\n",
    "    def __init__(self):\n",
    "        super().__init__()\n",
    "        self.lstm = torch.nn.LSTM(input_size=1, hidden_size=1024, num_layers=2,\n",
    "                                  batch_first=True)\n",
    "        self.dropout = torch.nn.Dropout(0.25)\n",
    "        self.linear = torch.nn.Linear(1024, 4096)\n",
    "        self.dropout1 = torch.nn.Dropout(0.2)\n",
    "        self.linear1 = torch.nn.Linear(4096, len(vocab_words))\n",
    "\n",
    "    def forward(self, X_batch):\n",
    "        hidden = torch.randn(2, len(X_batch), 1024).to(device)\n",
    "        carry = torch.randn(2, len(X_batch), 1024).to(device)\n",
    "        output, _ = self.lstm(X_batch, (hidden, carry))\n",
    "        output = self.dropout(output)\n",
    "        output = self.linear(output[:, -1])\n",
    "        output = self.dropout1(output)\n",
    "        output = self.linear1(output)\n",
    "        return output"
   ]
  },
  {
   "cell_type": "markdown",
   "metadata": {
    "id": "cP6oAWfM8_PM"
   },
   "source": [
    "## Генерация текста"
   ]
  },
  {
   "cell_type": "code",
   "execution_count": 8,
   "metadata": {
    "executionInfo": {
     "elapsed": 477,
     "status": "ok",
     "timestamp": 1700066265147,
     "user": {
      "displayName": "Flyer Kon",
      "userId": "03371542717507711709"
     },
     "user_tz": -180
    },
    "id": "ym0O2RA49Drp"
   },
   "outputs": [],
   "source": [
    "def generate(model, X_train, vocab, sep=\"\"):\n",
    "  # seed необходим для детерменированности результата\n",
    "  random.seed(10)\n",
    "  # выбираем случайную последовательность символов из датасета\n",
    "  idx = random.randint(0, len(X_train))\n",
    "  # генерируем новый символ после группы символов\n",
    "  pattern = X_train[idx].numpy().astype(int).flatten().tolist()\n",
    "  print(\"\\033[92m Стартовый текст: {}\".format(sep.join(vocab.lookup_tokens(pattern))))\n",
    "  text = []\n",
    "  for i in range(100):\n",
    "    with torch.no_grad(): # не обновляя веса модели предсказываем значение\n",
    "      X_batch = torch.tensor(pattern,\n",
    "                             dtype=torch.float32).reshape(1, len(pattern), 1)\n",
    "      preds = model(X_batch.to(device))\n",
    "      # выбираем символ с наибольшей вероятностью\n",
    "      symbol = preds.argmax(dim=-1).cpu().numpy()[0]\n",
    "      text.append(symbol)\n",
    "      pattern.append(symbol)\n",
    "      pattern = pattern[1:]\n",
    "  print(\"\\033[91m Генерация: {}\".format(sep.join(vocab.lookup_tokens(text))))"
   ]
  },
  {
   "cell_type": "markdown",
   "metadata": {
    "id": "-MAKtzu99D_M"
   },
   "source": [
    "### Функция обучения"
   ]
  },
  {
   "cell_type": "code",
   "execution_count": 9,
   "metadata": {
    "executionInfo": {
     "elapsed": 565,
     "status": "ok",
     "timestamp": 1700066273482,
     "user": {
      "displayName": "Flyer Kon",
      "userId": "03371542717507711709"
     },
     "user_tz": -180
    },
    "id": "68czS0b99IRx"
   },
   "outputs": [],
   "source": [
    "def train(model, train_loader, epochs, lr, X_train, vocab, sep=''):\n",
    "  criterion = torch.nn.CrossEntropyLoss().to(device)\n",
    "  optimizer = torch.optim.Adam(model.parameters(), lr=lr)\n",
    "  for i in range(1, epochs+1):\n",
    "    losses = []\n",
    "    for X, Y in tqdm(train_loader):\n",
    "      X, Y = X.to(device), Y.to(device)\n",
    "      preds = model(X) # прогон признаков через слои модели\n",
    "      loss = criterion(preds, Y) # вычисление функции ошибки\n",
    "      losses.append(loss.item()) # сохранение вычисленной ошибки\n",
    "      optimizer.zero_grad() # очистка вычисленных градиентов\n",
    "      loss.backward() # вычисление градиента функции потерь по всем параметрам модели\n",
    "      optimizer.step() # оптимизация весов модели\n",
    "    print(\"Эпоха: {}\".format(i), end=' | ')\n",
    "    print(\"Ошибка : {:.3f}\".format(torch.tensor(losses).mean()))\n",
    "    # генерация по отному и тому же изначальному шаблону после каждой эпохи\n",
    "    generate(model, X_train, vocab, sep)"
   ]
  },
  {
   "cell_type": "markdown",
   "metadata": {
    "id": "_s3NoLQMoEcx"
   },
   "source": [
    "### Обучение моделей:"
   ]
  },
  {
   "cell_type": "code",
   "execution_count": 10,
   "metadata": {
    "colab": {
     "base_uri": "https://localhost:8080/"
    },
    "executionInfo": {
     "elapsed": 824143,
     "status": "ok",
     "timestamp": 1700067127864,
     "user": {
      "displayName": "Flyer Kon",
      "userId": "03371542717507711709"
     },
     "user_tz": -180
    },
    "id": "o9D_5uXK2MpI",
    "outputId": "f3085b13-8cf7-475d-e9ab-c4934c8c3527"
   },
   "outputs": [
    {
     "name": "stdout",
     "output_type": "stream",
     "text": [
      "TextGeneratorLetters(\n",
      "  (lstm): LSTM(1, 256, num_layers=2, batch_first=True)\n",
      "  (dropout): Dropout(p=0.25, inplace=False)\n",
      "  (linear): Linear(in_features=256, out_features=58, bias=True)\n",
      ")\n"
     ]
    },
    {
     "name": "stderr",
     "output_type": "stream",
     "text": [
      "100%|██████████| 196/196 [00:15<00:00, 12.58it/s]\n"
     ]
    },
    {
     "name": "stdout",
     "output_type": "stream",
     "text": [
      "Эпоха: 1 | Ошибка : 2.923\n",
      "\u001b[92m Стартовый текст: nd true. here\n",
      "is predicated of the effec\n",
      "\u001b[91m Генерация:  the the the the the the the the the the the the the the the the the the the the the the the the the\n"
     ]
    },
    {
     "name": "stderr",
     "output_type": "stream",
     "text": [
      "100%|██████████| 196/196 [00:15<00:00, 12.84it/s]\n"
     ]
    },
    {
     "name": "stdout",
     "output_type": "stream",
     "text": [
      "Эпоха: 2 | Ошибка : 2.726\n",
      "\u001b[92m Стартовый текст: nd true. here\n",
      "is predicated of the effec\n",
      "\u001b[91m Генерация:  the the the the the the the the the the the the the the the the the the the the the the the the the\n"
     ]
    },
    {
     "name": "stderr",
     "output_type": "stream",
     "text": [
      "100%|██████████| 196/196 [00:14<00:00, 13.17it/s]\n"
     ]
    },
    {
     "name": "stdout",
     "output_type": "stream",
     "text": [
      "Эпоха: 3 | Ошибка : 2.635\n",
      "\u001b[92m Стартовый текст: nd true. here\n",
      "is predicated of the effec\n",
      "\u001b[91m Генерация:  the seenenn of the soene the the soen the seen the the the see the the see the tee the soee the the\n"
     ]
    },
    {
     "name": "stderr",
     "output_type": "stream",
     "text": [
      "100%|██████████| 196/196 [00:14<00:00, 13.09it/s]\n"
     ]
    },
    {
     "name": "stdout",
     "output_type": "stream",
     "text": [
      "Эпоха: 4 | Ошибка : 2.567\n",
      "\u001b[92m Стартовый текст: nd true. here\n",
      "is predicated of the effec\n",
      "\u001b[91m Генерация: n of the soene the soier the seene the sene to the sere the seenene of the cerer the sene the soene \n"
     ]
    },
    {
     "name": "stderr",
     "output_type": "stream",
     "text": [
      "100%|██████████| 196/196 [00:15<00:00, 12.60it/s]\n"
     ]
    },
    {
     "name": "stdout",
     "output_type": "stream",
     "text": [
      "Эпоха: 5 | Ошибка : 2.506\n",
      "\u001b[92m Стартовый текст: nd true. here\n",
      "is predicated of the effec\n",
      "\u001b[91m Генерация: tion the the the seen the seenne of the seeen the sennen to the saneet of the seriens of the soere t\n"
     ]
    },
    {
     "name": "stderr",
     "output_type": "stream",
     "text": [
      "100%|██████████| 196/196 [00:15<00:00, 12.78it/s]\n"
     ]
    },
    {
     "name": "stdout",
     "output_type": "stream",
     "text": [
      "Эпоха: 6 | Ошибка : 2.446\n",
      "\u001b[92m Стартовый текст: nd true. here\n",
      "is predicated of the effec\n",
      "\u001b[91m Генерация: tion of the seeient the seeres the sene and the sher the she of the shene the sere the sele of the s\n"
     ]
    },
    {
     "name": "stderr",
     "output_type": "stream",
     "text": [
      "100%|██████████| 196/196 [00:15<00:00, 12.50it/s]\n"
     ]
    },
    {
     "name": "stdout",
     "output_type": "stream",
     "text": [
      "Эпоха: 7 | Ошибка : 2.393\n",
      "\u001b[92m Стартовый текст: nd true. here\n",
      "is predicated of the effec\n",
      "\u001b[91m Генерация: tion of the soerention of the sertinn of the sertie the seser of the sene the seiers the sele and th\n"
     ]
    },
    {
     "name": "stderr",
     "output_type": "stream",
     "text": [
      "100%|██████████| 196/196 [00:15<00:00, 12.26it/s]\n"
     ]
    },
    {
     "name": "stdout",
     "output_type": "stream",
     "text": [
      "Эпоха: 8 | Ошибка : 2.346\n",
      "\u001b[92m Стартовый текст: nd true. here\n",
      "is predicated of the effec\n",
      "\u001b[91m Генерация: tion of the selierion of the srre the hand the sorision of the preer and the serse of the soini the \n"
     ]
    },
    {
     "name": "stderr",
     "output_type": "stream",
     "text": [
      "100%|██████████| 196/196 [00:16<00:00, 12.10it/s]\n"
     ]
    },
    {
     "name": "stdout",
     "output_type": "stream",
     "text": [
      "Эпоха: 9 | Ошибка : 2.301\n",
      "\u001b[92m Стартовый текст: nd true. here\n",
      "is predicated of the effec\n",
      "\u001b[91m Генерация: tion of the soilition of the sele the sele the poeer the seliee the sesions of the sele the sele of \n"
     ]
    },
    {
     "name": "stderr",
     "output_type": "stream",
     "text": [
      "100%|██████████| 196/196 [00:16<00:00, 12.24it/s]\n"
     ]
    },
    {
     "name": "stdout",
     "output_type": "stream",
     "text": [
      "Эпоха: 10 | Ошибка : 2.265\n",
      "\u001b[92m Стартовый текст: nd true. here\n",
      "is predicated of the effec\n",
      "\u001b[91m Генерация: tion of the seliots of the cerier the sele to the sele the snle of the serpence to the seser of the \n"
     ]
    },
    {
     "name": "stderr",
     "output_type": "stream",
     "text": [
      "100%|██████████| 196/196 [00:16<00:00, 12.22it/s]\n"
     ]
    },
    {
     "name": "stdout",
     "output_type": "stream",
     "text": [
      "Эпоха: 11 | Ошибка : 2.232\n",
      "\u001b[92m Стартовый текст: nd true. here\n",
      "is predicated of the effec\n",
      "\u001b[91m Генерация: ted the streer the self the cerinition of the soiling of the selission of the manesion of the shgit \n"
     ]
    },
    {
     "name": "stderr",
     "output_type": "stream",
     "text": [
      "100%|██████████| 196/196 [00:16<00:00, 12.19it/s]\n"
     ]
    },
    {
     "name": "stdout",
     "output_type": "stream",
     "text": [
      "Эпоха: 12 | Ошибка : 2.200\n",
      "\u001b[92m Стартовый текст: nd true. here\n",
      "is predicated of the effec\n",
      "\u001b[91m Генерация: tion of the eoomision of the sessinn of the sele the segentions of the mane of the sele the selst of\n"
     ]
    },
    {
     "name": "stderr",
     "output_type": "stream",
     "text": [
      "100%|██████████| 196/196 [00:16<00:00, 12.18it/s]\n"
     ]
    },
    {
     "name": "stdout",
     "output_type": "stream",
     "text": [
      "Эпоха: 13 | Ошибка : 2.172\n",
      "\u001b[92m Стартовый текст: nd true. here\n",
      "is predicated of the effec\n",
      "\u001b[91m Генерация: tion of the prrsence of the sester of the seliined of the perserion the cerining of the peientinn of\n"
     ]
    },
    {
     "name": "stderr",
     "output_type": "stream",
     "text": [
      "100%|██████████| 196/196 [00:16<00:00, 12.20it/s]\n"
     ]
    },
    {
     "name": "stdout",
     "output_type": "stream",
     "text": [
      "Эпоха: 14 | Ошибка : 2.148\n",
      "\u001b[92m Стартовый текст: nd true. here\n",
      "is predicated of the effec\n",
      "\u001b[91m Генерация: tion of the cerisions of the ouerent of the serte of the senslns of the sessine the sessine of the s\n"
     ]
    },
    {
     "name": "stderr",
     "output_type": "stream",
     "text": [
      "100%|██████████| 196/196 [00:16<00:00, 12.19it/s]\n"
     ]
    },
    {
     "name": "stdout",
     "output_type": "stream",
     "text": [
      "Эпоха: 15 | Ошибка : 2.126\n",
      "\u001b[92m Стартовый текст: nd true. here\n",
      "is predicated of the effec\n",
      "\u001b[91m Генерация: tion of the surence of the stier the self of the seli the stoeinity of the consrerent of the sestine\n"
     ]
    },
    {
     "name": "stderr",
     "output_type": "stream",
     "text": [
      "100%|██████████| 196/196 [00:16<00:00, 12.16it/s]\n"
     ]
    },
    {
     "name": "stdout",
     "output_type": "stream",
     "text": [
      "Эпоха: 16 | Ошибка : 2.101\n",
      "\u001b[92m Стартовый текст: nd true. here\n",
      "is predicated of the effec\n",
      "\u001b[91m Генерация: tion of the selition of the stiling the soace of the celintion of the orreer the sessrn of the seadi\n"
     ]
    },
    {
     "name": "stderr",
     "output_type": "stream",
     "text": [
      "100%|██████████| 196/196 [00:16<00:00, 12.17it/s]\n"
     ]
    },
    {
     "name": "stdout",
     "output_type": "stream",
     "text": [
      "Эпоха: 17 | Ошибка : 2.081\n",
      "\u001b[92m Стартовый текст: nd true. here\n",
      "is predicated of the effec\n",
      "\u001b[91m Генерация: tion of the sentle of the sestinn of the serte of the sente of the oresing the should of the sorlit \n"
     ]
    },
    {
     "name": "stderr",
     "output_type": "stream",
     "text": [
      "100%|██████████| 196/196 [00:16<00:00, 12.16it/s]\n"
     ]
    },
    {
     "name": "stdout",
     "output_type": "stream",
     "text": [
      "Эпоха: 18 | Ошибка : 2.058\n",
      "\u001b[92m Стартовый текст: nd true. here\n",
      "is predicated of the effec\n",
      "\u001b[91m Генерация: t of the sestine of the self the and of the insertion of the ooler of the cerilgnt of the self the o\n"
     ]
    },
    {
     "name": "stderr",
     "output_type": "stream",
     "text": [
      "100%|██████████| 196/196 [00:16<00:00, 12.22it/s]\n"
     ]
    },
    {
     "name": "stdout",
     "output_type": "stream",
     "text": [
      "Эпоха: 19 | Ошибка : 2.039\n",
      "\u001b[92m Стартовый текст: nd true. here\n",
      "is predicated of the effec\n",
      "\u001b[91m Генерация: tinn of the cesirinns of the seligions of the selsld of the stcl the soilithon of the cestrrion of t\n"
     ]
    },
    {
     "name": "stderr",
     "output_type": "stream",
     "text": [
      "100%|██████████| 196/196 [00:16<00:00, 12.22it/s]\n"
     ]
    },
    {
     "name": "stdout",
     "output_type": "stream",
     "text": [
      "Эпоха: 20 | Ошибка : 2.024\n",
      "\u001b[92m Стартовый текст: nd true. here\n",
      "is predicated of the effec\n",
      "\u001b[91m Генерация: tion of the senule of the sestrnss of the self of the cestinn of the self there in the stce of the s\n"
     ]
    },
    {
     "name": "stderr",
     "output_type": "stream",
     "text": [
      "100%|██████████| 196/196 [00:16<00:00, 12.18it/s]\n"
     ]
    },
    {
     "name": "stdout",
     "output_type": "stream",
     "text": [
      "Эпоха: 21 | Ошибка : 2.006\n",
      "\u001b[92m Стартовый текст: nd true. here\n",
      "is predicated of the effec\n",
      "\u001b[91m Генерация: tion of the surtise of the same the ooe of the self of the cesiling the serte of the senple of the s\n"
     ]
    },
    {
     "name": "stderr",
     "output_type": "stream",
     "text": [
      "100%|██████████| 196/196 [00:16<00:00, 12.13it/s]\n"
     ]
    },
    {
     "name": "stdout",
     "output_type": "stream",
     "text": [
      "Эпоха: 22 | Ошибка : 1.990\n",
      "\u001b[92m Стартовый текст: nd true. here\n",
      "is predicated of the effec\n",
      "\u001b[91m Генерация: tion of the present and the conseqpinn of the sensibting of the hndlce of the eerierice of the srili\n"
     ]
    },
    {
     "name": "stderr",
     "output_type": "stream",
     "text": [
      "100%|██████████| 196/196 [00:16<00:00, 12.22it/s]\n"
     ]
    },
    {
     "name": "stdout",
     "output_type": "stream",
     "text": [
      "Эпоха: 23 | Ошибка : 1.978\n",
      "\u001b[92m Стартовый текст: nd true. here\n",
      "is predicated of the effec\n",
      "\u001b[91m Генерация: tion of the senferent of the strers of the senigrent of the still of the conpence of the senferent o\n"
     ]
    },
    {
     "name": "stderr",
     "output_type": "stream",
     "text": [
      "100%|██████████| 196/196 [00:16<00:00, 12.12it/s]\n"
     ]
    },
    {
     "name": "stdout",
     "output_type": "stream",
     "text": [
      "Эпоха: 24 | Ошибка : 1.962\n",
      "\u001b[92m Стартовый текст: nd true. here\n",
      "is predicated of the effec\n",
      "\u001b[91m Генерация: tion of the secsent of the suill of the orering of the incerention of the prier of the still of the \n"
     ]
    },
    {
     "name": "stderr",
     "output_type": "stream",
     "text": [
      "100%|██████████| 196/196 [00:16<00:00, 12.18it/s]\n"
     ]
    },
    {
     "name": "stdout",
     "output_type": "stream",
     "text": [
      "Эпоха: 25 | Ошибка : 1.948\n",
      "\u001b[92m Стартовый текст: nd true. here\n",
      "is predicated of the effec\n",
      "\u001b[91m Генерация: tent of the streng of the senue of the still of the cristinn of the self of the still of the self th\n"
     ]
    },
    {
     "name": "stderr",
     "output_type": "stream",
     "text": [
      "100%|██████████| 196/196 [00:16<00:00, 12.20it/s]\n"
     ]
    },
    {
     "name": "stdout",
     "output_type": "stream",
     "text": [
      "Эпоха: 26 | Ошибка : 1.933\n",
      "\u001b[92m Стартовый текст: nd true. here\n",
      "is predicated of the effec\n",
      "\u001b[91m Генерация: tion of the sensle of the strthsion of the self the wer of the cassise of the prening of the seligio\n"
     ]
    },
    {
     "name": "stderr",
     "output_type": "stream",
     "text": [
      "100%|██████████| 196/196 [00:16<00:00, 12.19it/s]\n"
     ]
    },
    {
     "name": "stdout",
     "output_type": "stream",
     "text": [
      "Эпоха: 27 | Ошибка : 1.918\n",
      "\u001b[92m Стартовый текст: nd true. here\n",
      "is predicated of the effec\n",
      "\u001b[91m Генерация: t of the strengts of the stch an actions of the saie that the eisst of the contestion of the eisrinn\n"
     ]
    },
    {
     "name": "stderr",
     "output_type": "stream",
     "text": [
      "100%|██████████| 196/196 [00:16<00:00, 12.14it/s]\n"
     ]
    },
    {
     "name": "stdout",
     "output_type": "stream",
     "text": [
      "Эпоха: 28 | Ошибка : 1.906\n",
      "\u001b[92m Стартовый текст: nd true. here\n",
      "is predicated of the effec\n",
      "\u001b[91m Генерация: t of the srrthsion of the sense of the cesiliciou of the conseqtinn of the oreer the shght of the ca\n"
     ]
    },
    {
     "name": "stderr",
     "output_type": "stream",
     "text": [
      "100%|██████████| 196/196 [00:16<00:00, 12.18it/s]\n"
     ]
    },
    {
     "name": "stdout",
     "output_type": "stream",
     "text": [
      "Эпоха: 29 | Ошибка : 1.894\n",
      "\u001b[92m Стартовый текст: nd true. here\n",
      "is predicated of the effec\n",
      "\u001b[91m Генерация: tinn of the orestion of the senfer of the strersion of the streng of the still of the senpling of th\n"
     ]
    },
    {
     "name": "stderr",
     "output_type": "stream",
     "text": [
      "100%|██████████| 196/196 [00:16<00:00, 12.19it/s]\n"
     ]
    },
    {
     "name": "stdout",
     "output_type": "stream",
     "text": [
      "Эпоха: 30 | Ошибка : 1.884\n",
      "\u001b[92m Стартовый текст: nd true. here\n",
      "is predicated of the effec\n",
      "\u001b[91m Генерация: t of the condition of the anxtre the strersinn of the senf of the prissicuiv of the sense of the pre\n"
     ]
    },
    {
     "name": "stderr",
     "output_type": "stream",
     "text": [
      "100%|██████████| 196/196 [00:16<00:00, 12.23it/s]\n"
     ]
    },
    {
     "name": "stdout",
     "output_type": "stream",
     "text": [
      "Эпоха: 31 | Ошибка : 1.872\n",
      "\u001b[92m Стартовый текст: nd true. here\n",
      "is predicated of the effec\n",
      "\u001b[91m Генерация: t of the self of the sense of the renigions of the eeeling of the selftion of the senigion of the ce\n"
     ]
    },
    {
     "name": "stderr",
     "output_type": "stream",
     "text": [
      "100%|██████████| 196/196 [00:16<00:00, 12.21it/s]\n"
     ]
    },
    {
     "name": "stdout",
     "output_type": "stream",
     "text": [
      "Эпоха: 32 | Ошибка : 1.862\n",
      "\u001b[92m Стартовый текст: nd true. here\n",
      "is predicated of the effec\n",
      "\u001b[91m Генерация: t of the strtiing of the seligion of the eesiln of the sense of the exery of the properuion of the o\n"
     ]
    },
    {
     "name": "stderr",
     "output_type": "stream",
     "text": [
      "100%|██████████| 196/196 [00:16<00:00, 12.12it/s]\n"
     ]
    },
    {
     "name": "stdout",
     "output_type": "stream",
     "text": [
      "Эпоха: 33 | Ошибка : 1.851\n",
      "\u001b[92m Стартовый текст: nd true. here\n",
      "is predicated of the effec\n",
      "\u001b[91m Генерация: ture of the stch and the strersion of the streng of the concinion of the streng of the strength of t\n"
     ]
    },
    {
     "name": "stderr",
     "output_type": "stream",
     "text": [
      "100%|██████████| 196/196 [00:16<00:00, 12.23it/s]\n"
     ]
    },
    {
     "name": "stdout",
     "output_type": "stream",
     "text": [
      "Эпоха: 34 | Ошибка : 1.840\n",
      "\u001b[92m Стартовый текст: nd true. here\n",
      "is predicated of the effec\n",
      "\u001b[91m Генерация: tion of the consiee and the soote of the most should be actions and the self of the selst of the str\n"
     ]
    },
    {
     "name": "stderr",
     "output_type": "stream",
     "text": [
      "100%|██████████| 196/196 [00:16<00:00, 12.18it/s]\n"
     ]
    },
    {
     "name": "stdout",
     "output_type": "stream",
     "text": [
      "Эпоха: 35 | Ошибка : 1.829\n",
      "\u001b[92m Стартовый текст: nd true. here\n",
      "is predicated of the effec\n",
      "\u001b[91m Генерация: tion of the srill of the sense of the streng of the world of the seligious and in the more that and \n"
     ]
    },
    {
     "name": "stderr",
     "output_type": "stream",
     "text": [
      "100%|██████████| 196/196 [00:16<00:00, 12.13it/s]\n"
     ]
    },
    {
     "name": "stdout",
     "output_type": "stream",
     "text": [
      "Эпоха: 36 | Ошибка : 1.822\n",
      "\u001b[92m Стартовый текст: nd true. here\n",
      "is predicated of the effec\n",
      "\u001b[91m Генерация: t of the sense of the still of the selation of the oreer of the certain of the self of the soinit of\n"
     ]
    },
    {
     "name": "stderr",
     "output_type": "stream",
     "text": [
      "100%|██████████| 196/196 [00:16<00:00, 12.14it/s]\n"
     ]
    },
    {
     "name": "stdout",
     "output_type": "stream",
     "text": [
      "Эпоха: 37 | Ошибка : 1.813\n",
      "\u001b[92m Стартовый текст: nd true. here\n",
      "is predicated of the effec\n",
      "\u001b[91m Генерация: t of the sense of the ereat dan the individual of the astertion of the iitsonne of the self of the c\n"
     ]
    },
    {
     "name": "stderr",
     "output_type": "stream",
     "text": [
      "100%|██████████| 196/196 [00:16<00:00, 12.24it/s]\n"
     ]
    },
    {
     "name": "stdout",
     "output_type": "stream",
     "text": [
      "Эпоха: 38 | Ошибка : 1.806\n",
      "\u001b[92m Стартовый текст: nd true. here\n",
      "is predicated of the effec\n",
      "\u001b[91m Генерация: tion of the stef as a self soirit and the selsted of the strthmg of the conscience of the proserce o\n"
     ]
    },
    {
     "name": "stderr",
     "output_type": "stream",
     "text": [
      "100%|██████████| 196/196 [00:16<00:00, 12.21it/s]\n"
     ]
    },
    {
     "name": "stdout",
     "output_type": "stream",
     "text": [
      "Эпоха: 39 | Ошибка : 1.793\n",
      "\u001b[92m Стартовый текст: nd true. here\n",
      "is predicated of the effec\n",
      "\u001b[91m Генерация: t of the same the strpng of the self of the still of the sensenent of the ooder of the orher of the \n"
     ]
    },
    {
     "name": "stderr",
     "output_type": "stream",
     "text": [
      "100%|██████████| 196/196 [00:16<00:00, 12.14it/s]\n"
     ]
    },
    {
     "name": "stdout",
     "output_type": "stream",
     "text": [
      "Эпоха: 40 | Ошибка : 1.787\n",
      "\u001b[92m Стартовый текст: nd true. here\n",
      "is predicated of the effec\n",
      "\u001b[91m Генерация: t of the stff of the seliting of the most and the self of the one the soirit of the eecrinns of the \n"
     ]
    },
    {
     "name": "stderr",
     "output_type": "stream",
     "text": [
      "100%|██████████| 196/196 [00:16<00:00, 12.12it/s]\n"
     ]
    },
    {
     "name": "stdout",
     "output_type": "stream",
     "text": [
      "Эпоха: 41 | Ошибка : 1.782\n",
      "\u001b[92m Стартовый текст: nd true. here\n",
      "is predicated of the effec\n",
      "\u001b[91m Генерация: t of the consrant of the sense of the present and the self-clurdlence of the orhgin of the strtems o\n"
     ]
    },
    {
     "name": "stderr",
     "output_type": "stream",
     "text": [
      "100%|██████████| 196/196 [00:17<00:00, 11.13it/s]\n"
     ]
    },
    {
     "name": "stdout",
     "output_type": "stream",
     "text": [
      "Эпоха: 42 | Ошибка : 1.775\n",
      "\u001b[92m Стартовый текст: nd true. here\n",
      "is predicated of the effec\n",
      "\u001b[91m Генерация: tion of the sense of the stef and the same the sensenent of the same the seligious and the eistr of \n"
     ]
    },
    {
     "name": "stderr",
     "output_type": "stream",
     "text": [
      "100%|██████████| 196/196 [00:16<00:00, 11.54it/s]\n"
     ]
    },
    {
     "name": "stdout",
     "output_type": "stream",
     "text": [
      "Эпоха: 43 | Ошибка : 1.768\n",
      "\u001b[92m Стартовый текст: nd true. here\n",
      "is predicated of the effec\n",
      "\u001b[91m Генерация: tion of the self and the ond man is an artists and the selfgring of the still of the strpoger of the\n"
     ]
    },
    {
     "name": "stderr",
     "output_type": "stream",
     "text": [
      "100%|██████████| 196/196 [00:16<00:00, 11.75it/s]\n"
     ]
    },
    {
     "name": "stdout",
     "output_type": "stream",
     "text": [
      "Эпоха: 44 | Ошибка : 1.758\n",
      "\u001b[92m Стартовый текст: nd true. here\n",
      "is predicated of the effec\n",
      "\u001b[91m Генерация: tive consrect of the same thing of the errinate of the still of the seliting of the plest of the sen\n"
     ]
    },
    {
     "name": "stderr",
     "output_type": "stream",
     "text": [
      "100%|██████████| 196/196 [00:16<00:00, 12.17it/s]\n"
     ]
    },
    {
     "name": "stdout",
     "output_type": "stream",
     "text": [
      "Эпоха: 45 | Ошибка : 1.752\n",
      "\u001b[92m Стартовый текст: nd true. here\n",
      "is predicated of the effec\n",
      "\u001b[91m Генерация: t of the proeers of the science of the spirit of the same perhaps the stffers of the self pf the sen\n"
     ]
    },
    {
     "name": "stderr",
     "output_type": "stream",
     "text": [
      "100%|██████████| 196/196 [00:17<00:00, 11.28it/s]\n"
     ]
    },
    {
     "name": "stdout",
     "output_type": "stream",
     "text": [
      "Эпоха: 46 | Ошибка : 1.745\n",
      "\u001b[92m Стартовый текст: nd true. here\n",
      "is predicated of the effec\n",
      "\u001b[91m Генерация: t of the exery of the surengng of the surtale of the still of the sense of the propouite of the eod \n"
     ]
    },
    {
     "name": "stderr",
     "output_type": "stream",
     "text": [
      "100%|██████████| 196/196 [00:18<00:00, 10.81it/s]\n"
     ]
    },
    {
     "name": "stdout",
     "output_type": "stream",
     "text": [
      "Эпоха: 47 | Ошибка : 1.739\n",
      "\u001b[92m Стартовый текст: nd true. here\n",
      "is predicated of the effec\n",
      "\u001b[91m Генерация: t of the selse of the suef and the orher is a rilel of the most desire the one of the sensinent of t\n"
     ]
    },
    {
     "name": "stderr",
     "output_type": "stream",
     "text": [
      "100%|██████████| 196/196 [00:16<00:00, 12.13it/s]\n"
     ]
    },
    {
     "name": "stdout",
     "output_type": "stream",
     "text": [
      "Эпоха: 48 | Ошибка : 1.739\n",
      "\u001b[92m Стартовый текст: nd true. here\n",
      "is predicated of the effec\n",
      "\u001b[91m Генерация: t of the seni of the sense of the strength of the strength of the streng of the prieit of the world \n"
     ]
    },
    {
     "name": "stderr",
     "output_type": "stream",
     "text": [
      "100%|██████████| 196/196 [00:16<00:00, 11.96it/s]\n"
     ]
    },
    {
     "name": "stdout",
     "output_type": "stream",
     "text": [
      "Эпоха: 49 | Ошибка : 1.733\n",
      "\u001b[92m Стартовый текст: nd true. here\n",
      "is predicated of the effec\n",
      "\u001b[91m Генерация: t of the streng and the self of the soirit of the strength of the self of the streng and the workd o\n"
     ]
    },
    {
     "name": "stderr",
     "output_type": "stream",
     "text": [
      "100%|██████████| 196/196 [00:16<00:00, 12.20it/s]\n"
     ]
    },
    {
     "name": "stdout",
     "output_type": "stream",
     "text": [
      "Эпоха: 50 | Ошибка : 1.725\n",
      "\u001b[92m Стартовый текст: nd true. here\n",
      "is predicated of the effec\n",
      "\u001b[91m Генерация: tion of the streritation of the will of the streng of the sense of the senfer of the self of the sam\n"
     ]
    }
   ],
   "source": [
    "model = TextGeneratorLetters().to(device)\n",
    "print(model)\n",
    "train(model, train_loader, 50, 1e-3, X_train, vocab)"
   ]
  },
  {
   "cell_type": "markdown",
   "metadata": {
    "id": "8JgxlpSAgVbf"
   },
   "source": [
    "Первая модель, обученная на символах, обучилась до довольно низкого значения ошибки, она способна генерировать целые слова из языка, на котором обучалась, но имеет свойство зацикливаться и генерировать одинаковые последовательности символов. Это может быть связано с тем, что модель запомнила, какой символ идёт после одной и той же группы символов и всегда выдаёт этот символ, так как у него наибольшая вероятность среди всех остальных."
   ]
  },
  {
   "cell_type": "code",
   "execution_count": 13,
   "metadata": {
    "colab": {
     "base_uri": "https://localhost:8080/"
    },
    "executionInfo": {
     "elapsed": 1272732,
     "status": "ok",
     "timestamp": 1700068484789,
     "user": {
      "displayName": "Flyer Kon",
      "userId": "03371542717507711709"
     },
     "user_tz": -180
    },
    "id": "78FOGwaaxFFR",
    "outputId": "e818b24b-af7b-4700-8634-8462c3b3a246"
   },
   "outputs": [
    {
     "name": "stdout",
     "output_type": "stream",
     "text": [
      "TextGeneratorWords(\n",
      "  (lstm): LSTM(1, 1024, num_layers=2, batch_first=True)\n",
      "  (dropout): Dropout(p=0.25, inplace=False)\n",
      "  (linear): Linear(in_features=1024, out_features=4096, bias=True)\n",
      "  (dropout1): Dropout(p=0.2, inplace=False)\n",
      "  (linear1): Linear(in_features=4096, out_features=9138, bias=True)\n",
      ")\n"
     ]
    },
    {
     "name": "stderr",
     "output_type": "stream",
     "text": [
      "100%|██████████| 23/23 [00:24<00:00,  1.08s/it]\n"
     ]
    },
    {
     "name": "stdout",
     "output_type": "stream",
     "text": [
      "Эпоха: 1 | Ошибка : 7.926\n",
      "\u001b[92m Стартовый текст: life blooms flowers only through kind feeling cheerfulness friendliness kindness a heart are unfailing sources impulse have made far more civilization other more noised manifestations it are styled sympathy benevolence sacrifice but it is customary depreciate little tokens kindly feeling\n",
      "\u001b[91m Генерация: a a a a a a a a a a a a a a a a a a a a a a a a a a a a a a a a a he is a a a a a a a a a a a a a a a a a a a a a a a a a he a a a a a a a a a a a a a a a a a a he a a a a a a a a a a a a a a a a a a a a\n"
     ]
    },
    {
     "name": "stderr",
     "output_type": "stream",
     "text": [
      "100%|██████████| 23/23 [00:24<00:00,  1.05s/it]\n"
     ]
    },
    {
     "name": "stdout",
     "output_type": "stream",
     "text": [
      "Эпоха: 2 | Ошибка : 7.356\n",
      "\u001b[92m Стартовый текст: life blooms flowers only through kind feeling cheerfulness friendliness kindness a heart are unfailing sources impulse have made far more civilization other more noised manifestations it are styled sympathy benevolence sacrifice but it is customary depreciate little tokens kindly feeling\n",
      "\u001b[91m Генерация: in in in in in in in in in in in in in in in in in in in in in in in in in in in in in in in in in in in in in in in in in in in in in in in in in in in in in in in in in in in in in in in in in in in in in in in in in in in in in in in in in in in in in in in in in in in in in in in in in in in in\n"
     ]
    },
    {
     "name": "stderr",
     "output_type": "stream",
     "text": [
      "100%|██████████| 23/23 [00:23<00:00,  1.04s/it]\n"
     ]
    },
    {
     "name": "stdout",
     "output_type": "stream",
     "text": [
      "Эпоха: 3 | Ошибка : 7.201\n",
      "\u001b[92m Стартовый текст: life blooms flowers only through kind feeling cheerfulness friendliness kindness a heart are unfailing sources impulse have made far more civilization other more noised manifestations it are styled sympathy benevolence sacrifice but it is customary depreciate little tokens kindly feeling\n",
      "\u001b[91m Генерация: is is is is is is is is is is is is is is is is is is is is is is is is is is is is is is is is is is is is is is is is is is is is is is is is is is is is is is is is is is is is is is is is is is is is is is is is is is is is is is is is is is is is is is is is is is is is is is is is is is is is\n"
     ]
    },
    {
     "name": "stderr",
     "output_type": "stream",
     "text": [
      "100%|██████████| 23/23 [00:24<00:00,  1.05s/it]\n"
     ]
    },
    {
     "name": "stdout",
     "output_type": "stream",
     "text": [
      "Эпоха: 4 | Ошибка : 7.179\n",
      "\u001b[92m Стартовый текст: life blooms flowers only through kind feeling cheerfulness friendliness kindness a heart are unfailing sources impulse have made far more civilization other more noised manifestations it are styled sympathy benevolence sacrifice but it is customary depreciate little tokens kindly feeling\n",
      "\u001b[91m Генерация: in in in in in in in in in in in in in in in in in in in in in in in a man in in in in in in in in in in in in in in in in in a man in in in in in in in in in in in in in in in in in in in in in in in in in in in in in in in in in in in in in in in in in in in in in in in in in in in in in in in in\n"
     ]
    },
    {
     "name": "stderr",
     "output_type": "stream",
     "text": [
      "100%|██████████| 23/23 [00:25<00:00,  1.10s/it]\n"
     ]
    },
    {
     "name": "stdout",
     "output_type": "stream",
     "text": [
      "Эпоха: 5 | Ошибка : 7.084\n",
      "\u001b[92m Стартовый текст: life blooms flowers only through kind feeling cheerfulness friendliness kindness a heart are unfailing sources impulse have made far more civilization other more noised manifestations it are styled sympathy benevolence sacrifice but it is customary depreciate little tokens kindly feeling\n",
      "\u001b[91m Генерация: in in in in in in in in in in in in in in in in in in in in in in in in in in in in in in in in in in in in in in in in in in is in in in in in in in in in in in in in in in in in in in in in in in in in in in in in in in in in in in in in in in in in in in in in in in in in in in in in in in in in\n"
     ]
    },
    {
     "name": "stderr",
     "output_type": "stream",
     "text": [
      "100%|██████████| 23/23 [00:24<00:00,  1.06s/it]\n"
     ]
    },
    {
     "name": "stdout",
     "output_type": "stream",
     "text": [
      "Эпоха: 6 | Ошибка : 7.075\n",
      "\u001b[92m Стартовый текст: life blooms flowers only through kind feeling cheerfulness friendliness kindness a heart are unfailing sources impulse have made far more civilization other more noised manifestations it are styled sympathy benevolence sacrifice but it is customary depreciate little tokens kindly feeling\n",
      "\u001b[91m Генерация: in in in in in in in in in in in in in in in in in in in in in in in in in in in in in in in in in in in in in in in in in in in in in in in in in in in in in in in in in in in in in in in in in in in in in in in in in in in in in in in in in in in in in in in in in in in in in in in in in in in in\n"
     ]
    },
    {
     "name": "stderr",
     "output_type": "stream",
     "text": [
      "100%|██████████| 23/23 [00:24<00:00,  1.05s/it]\n"
     ]
    },
    {
     "name": "stdout",
     "output_type": "stream",
     "text": [
      "Эпоха: 7 | Ошибка : 7.067\n",
      "\u001b[92m Стартовый текст: life blooms flowers only through kind feeling cheerfulness friendliness kindness a heart are unfailing sources impulse have made far more civilization other more noised manifestations it are styled sympathy benevolence sacrifice but it is customary depreciate little tokens kindly feeling\n",
      "\u001b[91m Генерация: in in in in in in in in in in in in in in in in in in in in in in in in in in in in in in in in in in in in in in in in in in in in in in in in in in in in in in in in in in in in in in in in in in in in in in in in in in in in in in in in in in in in in in in in in in in in in in in in in in in in\n"
     ]
    },
    {
     "name": "stderr",
     "output_type": "stream",
     "text": [
      "100%|██████████| 23/23 [00:23<00:00,  1.04s/it]\n"
     ]
    },
    {
     "name": "stdout",
     "output_type": "stream",
     "text": [
      "Эпоха: 8 | Ошибка : 7.062\n",
      "\u001b[92m Стартовый текст: life blooms flowers only through kind feeling cheerfulness friendliness kindness a heart are unfailing sources impulse have made far more civilization other more noised manifestations it are styled sympathy benevolence sacrifice but it is customary depreciate little tokens kindly feeling\n",
      "\u001b[91m Генерация: in in in in in in in in in in in in in in in in in in in in in in in in in in in in in in in in in in in in in in in in in in in in in in in in in in in in in in in in in in in in in in in in in in in in in in in in in in in in in in in in in in in in in in in in in in in in in in in in in in in in\n"
     ]
    },
    {
     "name": "stderr",
     "output_type": "stream",
     "text": [
      "100%|██████████| 23/23 [00:24<00:00,  1.05s/it]\n"
     ]
    },
    {
     "name": "stdout",
     "output_type": "stream",
     "text": [
      "Эпоха: 9 | Ошибка : 7.055\n",
      "\u001b[92m Стартовый текст: life blooms flowers only through kind feeling cheerfulness friendliness kindness a heart are unfailing sources impulse have made far more civilization other more noised manifestations it are styled sympathy benevolence sacrifice but it is customary depreciate little tokens kindly feeling\n",
      "\u001b[91m Генерация: in in in in in in in in in in in in in in in in in in in in in in in in in in in in in in in in in in in in in in in in in in in in in in in in in in in in in in in in in in in in in in in in in in in in in in in in in in in in in in in in in in in in in in in in in in in in in in in in in in in in\n"
     ]
    },
    {
     "name": "stderr",
     "output_type": "stream",
     "text": [
      "100%|██████████| 23/23 [00:24<00:00,  1.04s/it]\n"
     ]
    },
    {
     "name": "stdout",
     "output_type": "stream",
     "text": [
      "Эпоха: 10 | Ошибка : 7.047\n",
      "\u001b[92m Стартовый текст: life blooms flowers only through kind feeling cheerfulness friendliness kindness a heart are unfailing sources impulse have made far more civilization other more noised manifestations it are styled sympathy benevolence sacrifice but it is customary depreciate little tokens kindly feeling\n",
      "\u001b[91m Генерация: in in in in in in in in in in in in in in in in in in in in in in in in in in in in in in in in in in in in in in in in in in in in in in in in in in in in in in in in in in in in in in in in in in in in in in in in in in in in in in in in in in in in in in in in in in in in in in in in in in in in\n"
     ]
    },
    {
     "name": "stderr",
     "output_type": "stream",
     "text": [
      "100%|██████████| 23/23 [00:24<00:00,  1.04s/it]\n"
     ]
    },
    {
     "name": "stdout",
     "output_type": "stream",
     "text": [
      "Эпоха: 11 | Ошибка : 7.030\n",
      "\u001b[92m Стартовый текст: life blooms flowers only through kind feeling cheerfulness friendliness kindness a heart are unfailing sources impulse have made far more civilization other more noised manifestations it are styled sympathy benevolence sacrifice but it is customary depreciate little tokens kindly feeling\n",
      "\u001b[91m Генерация: in in in in in in in in in in in in in in in in in in in in in in in in in in in in in in in in in in in in in in in in in in in in in in in in in in in in in in in in in in in in in in in in in in in in in in in in in in in in in in in in in in in in in in in in in in in in in in in in in in in in\n"
     ]
    },
    {
     "name": "stderr",
     "output_type": "stream",
     "text": [
      "100%|██████████| 23/23 [00:24<00:00,  1.06s/it]\n"
     ]
    },
    {
     "name": "stdout",
     "output_type": "stream",
     "text": [
      "Эпоха: 12 | Ошибка : 7.012\n",
      "\u001b[92m Стартовый текст: life blooms flowers only through kind feeling cheerfulness friendliness kindness a heart are unfailing sources impulse have made far more civilization other more noised manifestations it are styled sympathy benevolence sacrifice but it is customary depreciate little tokens kindly feeling\n",
      "\u001b[91m Генерация: in in in in in in in in in in in in in in in in in in in in in in in in in in in in in in in in in in in in in in in in in in in in in in in in in in in in in in in in in in in in in in in in in in in in in in in in in in in in in in in in in in in in in in in in in in in in in in in in in in in in\n"
     ]
    },
    {
     "name": "stderr",
     "output_type": "stream",
     "text": [
      "100%|██████████| 23/23 [00:24<00:00,  1.04s/it]\n"
     ]
    },
    {
     "name": "stdout",
     "output_type": "stream",
     "text": [
      "Эпоха: 13 | Ошибка : 6.992\n",
      "\u001b[92m Стартовый текст: life blooms flowers only through kind feeling cheerfulness friendliness kindness a heart are unfailing sources impulse have made far more civilization other more noised manifestations it are styled sympathy benevolence sacrifice but it is customary depreciate little tokens kindly feeling\n",
      "\u001b[91m Генерация: in in in in in in in in in in in in in in in in in in in in in in in in in in in in in in in in in in in in in in in in in in in in in in in in in in in in in in in in in in in in in in in in in in in in in in in in in in in in in in in in in in in in in in in in in in in in in in in in in in in in\n"
     ]
    },
    {
     "name": "stderr",
     "output_type": "stream",
     "text": [
      "100%|██████████| 23/23 [00:23<00:00,  1.04s/it]\n"
     ]
    },
    {
     "name": "stdout",
     "output_type": "stream",
     "text": [
      "Эпоха: 14 | Ошибка : 6.978\n",
      "\u001b[92m Стартовый текст: life blooms flowers only through kind feeling cheerfulness friendliness kindness a heart are unfailing sources impulse have made far more civilization other more noised manifestations it are styled sympathy benevolence sacrifice but it is customary depreciate little tokens kindly feeling\n",
      "\u001b[91m Генерация: in in in in in in in in in in in in in in in in in in in in in in in in in in in in in in in in in in in is in in in in in in in in in in in in in in in in in in in in in in in in in in in in in in in in in in in in in in in in in in in in in in in in in in in in in in in in in in in in in in in in\n"
     ]
    },
    {
     "name": "stderr",
     "output_type": "stream",
     "text": [
      "100%|██████████| 23/23 [00:24<00:00,  1.05s/it]\n"
     ]
    },
    {
     "name": "stdout",
     "output_type": "stream",
     "text": [
      "Эпоха: 15 | Ошибка : 6.966\n",
      "\u001b[92m Стартовый текст: life blooms flowers only through kind feeling cheerfulness friendliness kindness a heart are unfailing sources impulse have made far more civilization other more noised manifestations it are styled sympathy benevolence sacrifice but it is customary depreciate little tokens kindly feeling\n",
      "\u001b[91m Генерация: in in in in in in in in in in in in in in in in in in in in in in in in in in in in in in in in in in in in in in in in in in in in in in in in in in in in in in in in in in in in in in in in in in in in in in in in in in in in in in in in in in in in in in in in in in in in in in in in in in in in\n"
     ]
    },
    {
     "name": "stderr",
     "output_type": "stream",
     "text": [
      "100%|██████████| 23/23 [00:23<00:00,  1.04s/it]\n"
     ]
    },
    {
     "name": "stdout",
     "output_type": "stream",
     "text": [
      "Эпоха: 16 | Ошибка : 6.945\n",
      "\u001b[92m Стартовый текст: life blooms flowers only through kind feeling cheerfulness friendliness kindness a heart are unfailing sources impulse have made far more civilization other more noised manifestations it are styled sympathy benevolence sacrifice but it is customary depreciate little tokens kindly feeling\n",
      "\u001b[91m Генерация: in in in in in in in in in in in in in in in in in in in in in in in in in in in in in in in in in in in in in in in in in in in in in in in in in in in in in in in in in in in in in in in in in in in in in in in in in in in in in in in in in in in in in in in in in in in in in in in in in in in in\n"
     ]
    },
    {
     "name": "stderr",
     "output_type": "stream",
     "text": [
      "100%|██████████| 23/23 [00:24<00:00,  1.05s/it]\n"
     ]
    },
    {
     "name": "stdout",
     "output_type": "stream",
     "text": [
      "Эпоха: 17 | Ошибка : 6.918\n",
      "\u001b[92m Стартовый текст: life blooms flowers only through kind feeling cheerfulness friendliness kindness a heart are unfailing sources impulse have made far more civilization other more noised manifestations it are styled sympathy benevolence sacrifice but it is customary depreciate little tokens kindly feeling\n",
      "\u001b[91m Генерация: in in in in in in in in in in in in in in in in in in in in in in in in in in in in in in in in in in in in in in in in in in in in in in in in in in in in in in in in in in in in in in in in in in in in in in in in in in in in in in in in in in in in in in in in in in in in in in in in in in in in\n"
     ]
    },
    {
     "name": "stderr",
     "output_type": "stream",
     "text": [
      "100%|██████████| 23/23 [00:24<00:00,  1.04s/it]\n"
     ]
    },
    {
     "name": "stdout",
     "output_type": "stream",
     "text": [
      "Эпоха: 18 | Ошибка : 6.942\n",
      "\u001b[92m Стартовый текст: life blooms flowers only through kind feeling cheerfulness friendliness kindness a heart are unfailing sources impulse have made far more civilization other more noised manifestations it are styled sympathy benevolence sacrifice but it is customary depreciate little tokens kindly feeling\n",
      "\u001b[91m Генерация: in in in in in in in in in in in in in in in in in in in in in in in in in in in in in in in in in in in in in in in in in in in in in in in in in in in in in in in in in in in in in in in in in in in in in in in in in in in in in in in in in in a man in in in in in in in in a man in in a certain in a\n"
     ]
    },
    {
     "name": "stderr",
     "output_type": "stream",
     "text": [
      "100%|██████████| 23/23 [00:24<00:00,  1.04s/it]\n"
     ]
    },
    {
     "name": "stdout",
     "output_type": "stream",
     "text": [
      "Эпоха: 19 | Ошибка : 6.928\n",
      "\u001b[92m Стартовый текст: life blooms flowers only through kind feeling cheerfulness friendliness kindness a heart are unfailing sources impulse have made far more civilization other more noised manifestations it are styled sympathy benevolence sacrifice but it is customary depreciate little tokens kindly feeling\n",
      "\u001b[91m Генерация: in a new in is is is a man or in is in in is in in in in a man or is in in in is in a man in in in is in a man or is in in is in is in is a man in in in in a man or is is in is in in in a man is is in in in in is a man a man in is in a man or is in a man in in is in is a man or in is a man is is in\n"
     ]
    },
    {
     "name": "stderr",
     "output_type": "stream",
     "text": [
      "100%|██████████| 23/23 [00:24<00:00,  1.05s/it]\n"
     ]
    },
    {
     "name": "stdout",
     "output_type": "stream",
     "text": [
      "Эпоха: 20 | Ошибка : 6.889\n",
      "\u001b[92m Стартовый текст: life blooms flowers only through kind feeling cheerfulness friendliness kindness a heart are unfailing sources impulse have made far more civilization other more noised manifestations it are styled sympathy benevolence sacrifice but it is customary depreciate little tokens kindly feeling\n",
      "\u001b[91m Генерация: is is is in is is a man or is is is is is a man is is is is is a man is is is is is is is a man is is is is is is is in is is is in is in is is is in is is is is in is is is a man or is a man is in is is is is a man or is is is is is is is in a man is is in is is is is a man or is is is is is is is\n"
     ]
    },
    {
     "name": "stderr",
     "output_type": "stream",
     "text": [
      "100%|██████████| 23/23 [00:23<00:00,  1.04s/it]\n"
     ]
    },
    {
     "name": "stdout",
     "output_type": "stream",
     "text": [
      "Эпоха: 21 | Ошибка : 6.888\n",
      "\u001b[92m Стартовый текст: life blooms flowers only through kind feeling cheerfulness friendliness kindness a heart are unfailing sources impulse have made far more civilization other more noised manifestations it are styled sympathy benevolence sacrifice but it is customary depreciate little tokens kindly feeling\n",
      "\u001b[91m Генерация: is is is is is is is is is is is is is in in in is is is is is is in is is is is is in is is is is is is is is is is in in in is is is is in in is is in is is is in is in is is in in is is is is is is is in in is is is is is in is is in is is in is in is is in is is in in is is is is in is is is is\n"
     ]
    },
    {
     "name": "stderr",
     "output_type": "stream",
     "text": [
      "100%|██████████| 23/23 [00:24<00:00,  1.04s/it]\n"
     ]
    },
    {
     "name": "stdout",
     "output_type": "stream",
     "text": [
      "Эпоха: 22 | Ошибка : 6.937\n",
      "\u001b[92m Стартовый текст: life blooms flowers only through kind feeling cheerfulness friendliness kindness a heart are unfailing sources impulse have made far more civilization other more noised manifestations it are styled sympathy benevolence sacrifice but it is customary depreciate little tokens kindly feeling\n",
      "\u001b[91m Генерация: is is is is is is is is is is is is is is is is is is is in is is is is is is is is is is in is is is is is is is is is is is is is is is is is in is is is is is is is is is is is is is is is is is in is is is is is is is is is is is is in is is is is is is is in is is is is is is is is is is is is\n"
     ]
    },
    {
     "name": "stderr",
     "output_type": "stream",
     "text": [
      "100%|██████████| 23/23 [00:24<00:00,  1.05s/it]\n"
     ]
    },
    {
     "name": "stdout",
     "output_type": "stream",
     "text": [
      "Эпоха: 23 | Ошибка : 6.923\n",
      "\u001b[92m Стартовый текст: life blooms flowers only through kind feeling cheerfulness friendliness kindness a heart are unfailing sources impulse have made far more civilization other more noised manifestations it are styled sympathy benevolence sacrifice but it is customary depreciate little tokens kindly feeling\n",
      "\u001b[91m Генерация: is is is in is in is is is in in in in in in in in in in in in in in in in in in in in in in in in in in in in in in in in in in in in in in in in in in in in in in in in in in in in in in in in in in in in in in in in in in in in in in in in in in in in in in in in in in in in in in in in in in in\n"
     ]
    },
    {
     "name": "stderr",
     "output_type": "stream",
     "text": [
      "100%|██████████| 23/23 [00:24<00:00,  1.05s/it]\n"
     ]
    },
    {
     "name": "stdout",
     "output_type": "stream",
     "text": [
      "Эпоха: 24 | Ошибка : 6.882\n",
      "\u001b[92m Стартовый текст: life blooms flowers only through kind feeling cheerfulness friendliness kindness a heart are unfailing sources impulse have made far more civilization other more noised manifestations it are styled sympathy benevolence sacrifice but it is customary depreciate little tokens kindly feeling\n",
      "\u001b[91m Генерация: is is is is is in is is in in is a false is a false in a false or is a false or in is is is is is is is is is is is is is is is is is is is is is is in is is is is is is is is is is is is is is in is is in is is is is is is a man a certain is a false a sort or is is is is in is is is is is is is is is is is in is\n"
     ]
    },
    {
     "name": "stderr",
     "output_type": "stream",
     "text": [
      "100%|██████████| 23/23 [00:24<00:00,  1.05s/it]\n"
     ]
    },
    {
     "name": "stdout",
     "output_type": "stream",
     "text": [
      "Эпоха: 25 | Ошибка : 6.862\n",
      "\u001b[92m Стартовый текст: life blooms flowers only through kind feeling cheerfulness friendliness kindness a heart are unfailing sources impulse have made far more civilization other more noised manifestations it are styled sympathy benevolence sacrifice but it is customary depreciate little tokens kindly feeling\n",
      "\u001b[91m Генерация: in is is is is is in is in is is in is in is is is in is in in is is in is is in in is is in is in in in in in is in is is in in in in in in is in in in is is is is in is is is in in in is is is in in in is is is in is is is is in is is in is in in in is in in in in in is is in in is in in in in is\n"
     ]
    },
    {
     "name": "stderr",
     "output_type": "stream",
     "text": [
      "100%|██████████| 23/23 [00:23<00:00,  1.04s/it]\n"
     ]
    },
    {
     "name": "stdout",
     "output_type": "stream",
     "text": [
      "Эпоха: 26 | Ошибка : 6.840\n",
      "\u001b[92m Стартовый текст: life blooms flowers only through kind feeling cheerfulness friendliness kindness a heart are unfailing sources impulse have made far more civilization other more noised manifestations it are styled sympathy benevolence sacrifice but it is customary depreciate little tokens kindly feeling\n",
      "\u001b[91m Генерация: in in in in in in in in in in in in in in in in in in in in in in in in in in in in in in in in in in in in in in in in in in in in in in in in in in in in in in in in in in in in in in in in in in in in in in in in in in in in in in in in in in in in in in in in in in in in in in in in in in in in\n"
     ]
    },
    {
     "name": "stderr",
     "output_type": "stream",
     "text": [
      "100%|██████████| 23/23 [00:24<00:00,  1.05s/it]\n"
     ]
    },
    {
     "name": "stdout",
     "output_type": "stream",
     "text": [
      "Эпоха: 27 | Ошибка : 6.803\n",
      "\u001b[92m Стартовый текст: life blooms flowers only through kind feeling cheerfulness friendliness kindness a heart are unfailing sources impulse have made far more civilization other more noised manifestations it are styled sympathy benevolence sacrifice but it is customary depreciate little tokens kindly feeling\n",
      "\u001b[91m Генерация: is is is is is is is is is is in in in is in in in is in is is is in in in is in is in in in in in in in in is in in is in is in in is is in in in in is in in in in is in in in in in in is is in is in in in is in in is in in is in in is is in in in in in in in in in is is is in in in in is in in in\n"
     ]
    },
    {
     "name": "stderr",
     "output_type": "stream",
     "text": [
      "100%|██████████| 23/23 [00:23<00:00,  1.04s/it]\n"
     ]
    },
    {
     "name": "stdout",
     "output_type": "stream",
     "text": [
      "Эпоха: 28 | Ошибка : 6.820\n",
      "\u001b[92m Стартовый текст: life blooms flowers only through kind feeling cheerfulness friendliness kindness a heart are unfailing sources impulse have made far more civilization other more noised manifestations it are styled sympathy benevolence sacrifice but it is customary depreciate little tokens kindly feeling\n",
      "\u001b[91m Генерация: is is is is is is is is is is is is is is is is is is is is is is is is is is is is is is is is is is is is is is is is is is is is is is is is is is is is is is is is is is is is is is is is is is is is is is is is is is is is is is is is is as a good or in is is is is is is is is is is is is is is\n"
     ]
    },
    {
     "name": "stderr",
     "output_type": "stream",
     "text": [
      "100%|██████████| 23/23 [00:23<00:00,  1.04s/it]\n"
     ]
    },
    {
     "name": "stdout",
     "output_type": "stream",
     "text": [
      "Эпоха: 29 | Ошибка : 6.813\n",
      "\u001b[92m Стартовый текст: life blooms flowers only through kind feeling cheerfulness friendliness kindness a heart are unfailing sources impulse have made far more civilization other more noised manifestations it are styled sympathy benevolence sacrifice but it is customary depreciate little tokens kindly feeling\n",
      "\u001b[91m Генерация: in in is in is is is in is in in is in is is is is in is is in in in in in is is is is in is is is is is in in in in in in is in in in is in is in in in in in is in is in is in in in in in is is in is in is is is is is is in in in is is in in is is in in in in is in in is in in is in is in hence is is\n"
     ]
    },
    {
     "name": "stderr",
     "output_type": "stream",
     "text": [
      "100%|██████████| 23/23 [00:24<00:00,  1.04s/it]\n"
     ]
    },
    {
     "name": "stdout",
     "output_type": "stream",
     "text": [
      "Эпоха: 30 | Ошибка : 6.896\n",
      "\u001b[92m Стартовый текст: life blooms flowers only through kind feeling cheerfulness friendliness kindness a heart are unfailing sources impulse have made far more civilization other more noised manifestations it are styled sympathy benevolence sacrifice but it is customary depreciate little tokens kindly feeling\n",
      "\u001b[91m Генерация: in is is a certain defective is a man or is is is is is is is is is is is is is is is is is is is is is is is is is in is is in is is is in in in is is is is is in is is is a man or it a man consequence is is is is is is is a man or consequence a man city in is it in is a man individuality is a man or or is is is is in is be a man individuality is is\n"
     ]
    },
    {
     "name": "stderr",
     "output_type": "stream",
     "text": [
      "100%|██████████| 23/23 [00:24<00:00,  1.04s/it]\n"
     ]
    },
    {
     "name": "stdout",
     "output_type": "stream",
     "text": [
      "Эпоха: 31 | Ошибка : 6.895\n",
      "\u001b[92m Стартовый текст: life blooms flowers only through kind feeling cheerfulness friendliness kindness a heart are unfailing sources impulse have made far more civilization other more noised manifestations it are styled sympathy benevolence sacrifice but it is customary depreciate little tokens kindly feeling\n",
      "\u001b[91m Генерация: is in is is is is is is is is is in hence is is in in hence in in a man alleges a disadvantage god is is is is is as a man or imagination he is is is is is is is is is is is is is is as a man intentionally is is is is is is is is is in is is is is is he is is is is is is is is in is is is is is is is is is is is is in is hence in is is in in\n"
     ]
    },
    {
     "name": "stderr",
     "output_type": "stream",
     "text": [
      "100%|██████████| 23/23 [00:24<00:00,  1.04s/it]\n"
     ]
    },
    {
     "name": "stdout",
     "output_type": "stream",
     "text": [
      "Эпоха: 32 | Ошибка : 6.909\n",
      "\u001b[92m Стартовый текст: life blooms flowers only through kind feeling cheerfulness friendliness kindness a heart are unfailing sources impulse have made far more civilization other more noised manifestations it are styled sympathy benevolence sacrifice but it is customary depreciate little tokens kindly feeling\n",
      "\u001b[91m Генерация: is is is is is is is in is in is is is is in in is in in is is is in is is is a man in is is a certain or is is a certain or is in is is is is is is is is is is is is as a sort or is is is a man in in is in is is is is is is in is is is is in is is in is is is is in is in is in is is is is is is is is is is\n"
     ]
    },
    {
     "name": "stderr",
     "output_type": "stream",
     "text": [
      "100%|██████████| 23/23 [00:23<00:00,  1.04s/it]\n"
     ]
    },
    {
     "name": "stdout",
     "output_type": "stream",
     "text": [
      "Эпоха: 33 | Ошибка : 6.913\n",
      "\u001b[92m Стартовый текст: life blooms flowers only through kind feeling cheerfulness friendliness kindness a heart are unfailing sources impulse have made far more civilization other more noised manifestations it are styled sympathy benevolence sacrifice but it is customary depreciate little tokens kindly feeling\n",
      "\u001b[91m Генерация: is is is is is is is is is is is is is is is is is is is is a certain or is is acts as acts occasions is a man imagination acts prompted a certain is acts hence is acts a rational classification acts pain acts prompted acts gets is acts hence acts fierceness is as a motive is acts fierceness is is is a god or a man or acts a rational destruction acts as acts occasions acts occasions is acts as acts as acts imitate acts as a motive or is a man or pleasure simply\n"
     ]
    },
    {
     "name": "stderr",
     "output_type": "stream",
     "text": [
      "100%|██████████| 23/23 [00:23<00:00,  1.04s/it]\n"
     ]
    },
    {
     "name": "stdout",
     "output_type": "stream",
     "text": [
      "Эпоха: 34 | Ошибка : 6.869\n",
      "\u001b[92m Стартовый текст: life blooms flowers only through kind feeling cheerfulness friendliness kindness a heart are unfailing sources impulse have made far more civilization other more noised manifestations it are styled sympathy benevolence sacrifice but it is customary depreciate little tokens kindly feeling\n",
      "\u001b[91m Генерация: is a man classification he is is is a man number a man nature a man joy involuntarily is a man hence or is a man reciprocity a man individual a man individuality experiment pleasure a man tone involuntarily a man limited a man individuality involuntarily nature a man notion a man reciprocity a man nature a man is basic a function deal a man limited a man distraction involuntarily is is is a man consequence or a man reciprocity a man joy a man or who a man limited involuntarily a man reciprocity a man reciprocity involuntarily involuntarily a\n"
     ]
    },
    {
     "name": "stderr",
     "output_type": "stream",
     "text": [
      "100%|██████████| 23/23 [00:23<00:00,  1.04s/it]\n"
     ]
    },
    {
     "name": "stdout",
     "output_type": "stream",
     "text": [
      "Эпоха: 35 | Ошибка : 6.850\n",
      "\u001b[92m Стартовый текст: life blooms flowers only through kind feeling cheerfulness friendliness kindness a heart are unfailing sources impulse have made far more civilization other more noised manifestations it are styled sympathy benevolence sacrifice but it is customary depreciate little tokens kindly feeling\n",
      "\u001b[91m Генерация: is as it it is is is is is is in in in in in in is is is in in is in in in in in in it is in in in in in in is in in in in in in in in in in in is in in in in is in in in in is in in in in in is in in in in in in in in in in in is in in in in is as a bad period is is in is is is is is is is is as a being\n"
     ]
    },
    {
     "name": "stderr",
     "output_type": "stream",
     "text": [
      "100%|██████████| 23/23 [00:24<00:00,  1.05s/it]\n"
     ]
    },
    {
     "name": "stdout",
     "output_type": "stream",
     "text": [
      "Эпоха: 36 | Ошибка : 6.815\n",
      "\u001b[92m Стартовый текст: life blooms flowers only through kind feeling cheerfulness friendliness kindness a heart are unfailing sources impulse have made far more civilization other more noised manifestations it are styled sympathy benevolence sacrifice but it is customary depreciate little tokens kindly feeling\n",
      "\u001b[91m Генерация: is as a thing or is is is is is is is is is is is is is is is is is is is in is is is is is is is is is is is in is is is is is is is is is is is is is is is is is is is is in is is in is in is is is in is is is in in hence is is is in is is is is in is is in is is is is is is is is in is is in is is in\n"
     ]
    },
    {
     "name": "stderr",
     "output_type": "stream",
     "text": [
      "100%|██████████| 23/23 [00:23<00:00,  1.04s/it]\n"
     ]
    },
    {
     "name": "stdout",
     "output_type": "stream",
     "text": [
      "Эпоха: 37 | Ошибка : 6.870\n",
      "\u001b[92m Стартовый текст: life blooms flowers only through kind feeling cheerfulness friendliness kindness a heart are unfailing sources impulse have made far more civilization other more noised manifestations it are styled sympathy benevolence sacrifice but it is customary depreciate little tokens kindly feeling\n",
      "\u001b[91m Генерация: is is is as a philosopher or is is is is is is is is is is is is is is is is is is is is is is is is is is as a good is is is is is is is is is is is is is is is as a certain or is is is is is is is is is is is is is as a good or is is is is is is is is is as a certain is is is is is is is is is is is is is is is as\n"
     ]
    },
    {
     "name": "stderr",
     "output_type": "stream",
     "text": [
      "100%|██████████| 23/23 [00:23<00:00,  1.04s/it]\n"
     ]
    },
    {
     "name": "stdout",
     "output_type": "stream",
     "text": [
      "Эпоха: 38 | Ошибка : 6.736\n",
      "\u001b[92m Стартовый текст: life blooms flowers only through kind feeling cheerfulness friendliness kindness a heart are unfailing sources impulse have made far more civilization other more noised manifestations it are styled sympathy benevolence sacrifice but it is customary depreciate little tokens kindly feeling\n",
      "\u001b[91m Генерация: is is is is is is in is is is in in in in in in is in in in in in in in in is in in in in in in in is is in in in in is in is in in in in in in in in in in in in in in is in in is in in in in in in is in is in in in in in in in in is in in in in is in in in as thus in is in in in in in is in in in in\n"
     ]
    },
    {
     "name": "stderr",
     "output_type": "stream",
     "text": [
      "100%|██████████| 23/23 [00:24<00:00,  1.05s/it]\n"
     ]
    },
    {
     "name": "stdout",
     "output_type": "stream",
     "text": [
      "Эпоха: 39 | Ошибка : 6.779\n",
      "\u001b[92m Стартовый текст: life blooms flowers only through kind feeling cheerfulness friendliness kindness a heart are unfailing sources impulse have made far more civilization other more noised manifestations it are styled sympathy benevolence sacrifice but it is customary depreciate little tokens kindly feeling\n",
      "\u001b[91m Генерация: is is is is is is is is is is in is is a certain period is is is is is is is is is is is is is is is is is is is is is is is is is is is is is is is is is is is is is is is in is is is is is is in is is is is is is is in is is is is is is is is is is is in is in is is is is is is a man imagination is is is is is is\n"
     ]
    },
    {
     "name": "stderr",
     "output_type": "stream",
     "text": [
      "100%|██████████| 23/23 [00:24<00:00,  1.04s/it]\n"
     ]
    },
    {
     "name": "stdout",
     "output_type": "stream",
     "text": [
      "Эпоха: 40 | Ошибка : 6.762\n",
      "\u001b[92m Стартовый текст: life blooms flowers only through kind feeling cheerfulness friendliness kindness a heart are unfailing sources impulse have made far more civilization other more noised manifestations it are styled sympathy benevolence sacrifice but it is customary depreciate little tokens kindly feeling\n",
      "\u001b[91m Генерация: is in is is is is in is is is is in is in is is is in is as a means is is is is is is is is is is is is is is is is is is is is is in is is is is is is is is is is is is is is is is in in in in in is in is in in is is in hence in is is in is in in in in in in is as a man bad acts a good beneficial acts as one as religion is\n"
     ]
    },
    {
     "name": "stderr",
     "output_type": "stream",
     "text": [
      "100%|██████████| 23/23 [00:23<00:00,  1.04s/it]\n"
     ]
    },
    {
     "name": "stdout",
     "output_type": "stream",
     "text": [
      "Эпоха: 41 | Ошибка : 6.857\n",
      "\u001b[92m Стартовый текст: life blooms flowers only through kind feeling cheerfulness friendliness kindness a heart are unfailing sources impulse have made far more civilization other more noised manifestations it are styled sympathy benevolence sacrifice but it is customary depreciate little tokens kindly feeling\n",
      "\u001b[91m Генерация: is in is is is is is in is in as a good in is is is is is is is is is is is in is is is is is is is is is is is is is is is is is in is is is is is is in is in in in in in in is is as in is as a centre it is is is is as a sort it in is is is is is is is is is is is is is is is is is is is is is is is in\n"
     ]
    },
    {
     "name": "stderr",
     "output_type": "stream",
     "text": [
      "100%|██████████| 23/23 [00:23<00:00,  1.04s/it]\n"
     ]
    },
    {
     "name": "stdout",
     "output_type": "stream",
     "text": [
      "Эпоха: 42 | Ошибка : 6.704\n",
      "\u001b[92m Стартовый текст: life blooms flowers only through kind feeling cheerfulness friendliness kindness a heart are unfailing sources impulse have made far more civilization other more noised manifestations it are styled sympathy benevolence sacrifice but it is customary depreciate little tokens kindly feeling\n",
      "\u001b[91m Генерация: is is is as a function is in but in is is in is is is is is is is is is is in is is in is is is is is is is is is is in is is is is is in is is in in feeling is in is in is in in is is is in in in in is is in is pleasure as a protection between in is is is is is is is is is is is is is is is is is is is is is is in is is is is\n"
     ]
    },
    {
     "name": "stderr",
     "output_type": "stream",
     "text": [
      "100%|██████████| 23/23 [00:23<00:00,  1.04s/it]\n"
     ]
    },
    {
     "name": "stdout",
     "output_type": "stream",
     "text": [
      "Эпоха: 43 | Ошибка : 6.761\n",
      "\u001b[92m Стартовый текст: life blooms flowers only through kind feeling cheerfulness friendliness kindness a heart are unfailing sources impulse have made far more civilization other more noised manifestations it are styled sympathy benevolence sacrifice but it is customary depreciate little tokens kindly feeling\n",
      "\u001b[91m Генерация: is is is is is is is is is is in is is in in is is in in in is in in in in is as though is in in is is in in in is in in is is is in as a sort it impregnated is is is is is is is is is in is is is is is is is in is is is is is is is is is is is is is as regards is is in in in is in is in is in in is is in in in in in\n"
     ]
    },
    {
     "name": "stderr",
     "output_type": "stream",
     "text": [
      "100%|██████████| 23/23 [00:23<00:00,  1.04s/it]\n"
     ]
    },
    {
     "name": "stdout",
     "output_type": "stream",
     "text": [
      "Эпоха: 44 | Ошибка : 6.676\n",
      "\u001b[92m Стартовый текст: life blooms flowers only through kind feeling cheerfulness friendliness kindness a heart are unfailing sources impulse have made far more civilization other more noised manifestations it are styled sympathy benevolence sacrifice but it is customary depreciate little tokens kindly feeling\n",
      "\u001b[91m Генерация: as well be a certain a cash or a fortified or be a motive distraction exaggerated but a subsequent is is in is is is is is a man or is in is is is a man or or a novelty or a man a man or or a novelty or a man or is a man or is a man or a man or a man or or a man or is is a man limited is is is a false or be a man inclination interpretation as a man a man or be a man or is but\n"
     ]
    },
    {
     "name": "stderr",
     "output_type": "stream",
     "text": [
      "100%|██████████| 23/23 [00:23<00:00,  1.04s/it]\n"
     ]
    },
    {
     "name": "stdout",
     "output_type": "stream",
     "text": [
      "Эпоха: 45 | Ошибка : 6.680\n",
      "\u001b[92m Стартовый текст: life blooms flowers only through kind feeling cheerfulness friendliness kindness a heart are unfailing sources impulse have made far more civilization other more noised manifestations it are styled sympathy benevolence sacrifice but it is customary depreciate little tokens kindly feeling\n",
      "\u001b[91m Генерация: is is is is is is is is is is is is is is is is is is is is is is is is is is is is is in in is is is is is is is is is is is is is is in in is in is is is is is is is is in is is is is is is is is is is in is is is in is is is is is in is is is is in is in is is is is is is is is is is is is is is\n"
     ]
    },
    {
     "name": "stderr",
     "output_type": "stream",
     "text": [
      "100%|██████████| 23/23 [00:23<00:00,  1.04s/it]\n"
     ]
    },
    {
     "name": "stdout",
     "output_type": "stream",
     "text": [
      "Эпоха: 46 | Ошибка : 6.652\n",
      "\u001b[92m Стартовый текст: life blooms flowers only through kind feeling cheerfulness friendliness kindness a heart are unfailing sources impulse have made far more civilization other more noised manifestations it are styled sympathy benevolence sacrifice but it is customary depreciate little tokens kindly feeling\n",
      "\u001b[91m Генерация: it is is is is is is is is is is is is is is is is is is is is is is is is is is is is is is a world in in is in is is is is is is is is is is is is is is is is is is is is is is is is is is is is is is is is is is is a man feels in in is is is is is is is is is is is is is is is is is is is is is is is\n"
     ]
    },
    {
     "name": "stderr",
     "output_type": "stream",
     "text": [
      "100%|██████████| 23/23 [00:23<00:00,  1.04s/it]\n"
     ]
    },
    {
     "name": "stdout",
     "output_type": "stream",
     "text": [
      "Эпоха: 47 | Ошибка : 6.547\n",
      "\u001b[92m Стартовый текст: life blooms flowers only through kind feeling cheerfulness friendliness kindness a heart are unfailing sources impulse have made far more civilization other more noised manifestations it are styled sympathy benevolence sacrifice but it is customary depreciate little tokens kindly feeling\n",
      "\u001b[91m Генерация: is is is is is is is is is is is is is is is is is is is is is in is is is in in is is in is in in is is in is is is is be a sort is in is is is is is is is is is is is is is is is is is is is is is is is is is is is is is is is is is is is is is is is is is is is is in is is in in is is is is is is\n"
     ]
    },
    {
     "name": "stderr",
     "output_type": "stream",
     "text": [
      "100%|██████████| 23/23 [00:23<00:00,  1.04s/it]\n"
     ]
    },
    {
     "name": "stdout",
     "output_type": "stream",
     "text": [
      "Эпоха: 48 | Ошибка : 6.438\n",
      "\u001b[92m Стартовый текст: life blooms flowers only through kind feeling cheerfulness friendliness kindness a heart are unfailing sources impulse have made far more civilization other more noised manifestations it are styled sympathy benevolence sacrifice but it is customary depreciate little tokens kindly feeling\n",
      "\u001b[91m Генерация: in in in is in is in in in is in in in is in in in in is in in in in in in in is in is in is in in in in in is in in in in in in is in in in in in in in in is is in in is in in in in so in in in in in is in in in in is in in so in in is it in is in in in in in in in in in in in in is in is in in in\n"
     ]
    },
    {
     "name": "stderr",
     "output_type": "stream",
     "text": [
      "100%|██████████| 23/23 [00:23<00:00,  1.04s/it]\n"
     ]
    },
    {
     "name": "stdout",
     "output_type": "stream",
     "text": [
      "Эпоха: 49 | Ошибка : 6.411\n",
      "\u001b[92m Стартовый текст: life blooms flowers only through kind feeling cheerfulness friendliness kindness a heart are unfailing sources impulse have made far more civilization other more noised manifestations it are styled sympathy benevolence sacrifice but it is customary depreciate little tokens kindly feeling\n",
      "\u001b[91m Генерация: is is is is is is is is is is is in is is is is is is in in in is is is is is is is in is is in is is is in is is is is is in is in is is is is is is is in is in is is is in is in in is in is is is is is in is is is in in is is in is is is is is in is is is is is is is is is in is is in in is is in\n"
     ]
    },
    {
     "name": "stderr",
     "output_type": "stream",
     "text": [
      "100%|██████████| 23/23 [00:23<00:00,  1.04s/it]\n"
     ]
    },
    {
     "name": "stdout",
     "output_type": "stream",
     "text": [
      "Эпоха: 50 | Ошибка : 6.385\n",
      "\u001b[92m Стартовый текст: life blooms flowers only through kind feeling cheerfulness friendliness kindness a heart are unfailing sources impulse have made far more civilization other more noised manifestations it are styled sympathy benevolence sacrifice but it is customary depreciate little tokens kindly feeling\n",
      "\u001b[91m Генерация: in is is is is is is is in is in in in in in in is in is in in in in is in in is in is in in in is is in is in in in in in is in is in in in is in in in is in is in is in in in is in in is in in in in is in in in is in is is in is in is in in in is in in is in in in is in in in in in is is is is is\n"
     ]
    }
   ],
   "source": [
    "model = TextGeneratorWords().to(device)\n",
    "print(model)\n",
    "train(model, train_loader_words, 50, 1e-3, X_train_words, vocab_words, sep=' ')"
   ]
  },
  {
   "cell_type": "markdown",
   "metadata": {
    "id": "N_QXroQ6hWaS"
   },
   "source": [
    "Модель, обученная на словах имеет точность сильно ниже из-за меньшего размера датасета и большего размера целевой переменной. В основном выдаёт последовательности из наиболее частных слов, встречаемых в датасете."
   ]
  },
  {
   "cell_type": "markdown",
   "metadata": {
    "id": "7dCRcBQiJLoT"
   },
   "source": [
    "## Генерация текста для РУССКОЯЗЫЧНОГО НАБОРА глав Wikibooks."
   ]
  },
  {
   "cell_type": "code",
   "execution_count": 15,
   "metadata": {
    "colab": {
     "base_uri": "https://localhost:8080/"
    },
    "executionInfo": {
     "elapsed": 15968,
     "status": "ok",
     "timestamp": 1700069227994,
     "user": {
      "displayName": "Flyer Kon",
      "userId": "03371542717507711709"
     },
     "user_tz": -180
    },
    "id": "Yum8UnT4JROq",
    "outputId": "4067f152-00f0-48d8-8b7c-422a741ea764"
   },
   "outputs": [
    {
     "name": "stdout",
     "output_type": "stream",
     "text": [
      "Mounted at /content/drive\n"
     ]
    }
   ],
   "source": [
    "from google.colab import drive\n",
    "drive.mount('/content/drive')"
   ]
  },
  {
   "cell_type": "code",
   "execution_count": 19,
   "metadata": {
    "colab": {
     "base_uri": "https://localhost:8080/"
    },
    "executionInfo": {
     "elapsed": 115690,
     "status": "ok",
     "timestamp": 1700069415825,
     "user": {
      "displayName": "Flyer Kon",
      "userId": "03371542717507711709"
     },
     "user_tz": -180
    },
    "id": "IuY1YOCg44My",
    "outputId": "d8ee2671-5a05-48d5-d743-215ff2c1abd1"
   },
   "outputs": [
    {
     "name": "stderr",
     "output_type": "stream",
     "text": [
      "100%|██████████| 1/1 [01:55<00:00, 115.04s/it]\n"
     ]
    }
   ],
   "source": [
    "zf = zipfile.ZipFile('/content/drive/MyDrive/archive.zip')\n",
    "for file in tqdm(zf.infolist()):\n",
    "    zf.extract(file)"
   ]
  },
  {
   "cell_type": "code",
   "execution_count": 35,
   "metadata": {
    "colab": {
     "base_uri": "https://localhost:8080/",
     "height": 449
    },
    "executionInfo": {
     "elapsed": 2742,
     "status": "ok",
     "timestamp": 1700070162843,
     "user": {
      "displayName": "Flyer Kon",
      "userId": "03371542717507711709"
     },
     "user_tz": -180
    },
    "id": "4y6LyFE06Ls0",
    "outputId": "f64c1ef9-fd7a-4b2a-c67d-40d190bd6c20"
   },
   "outputs": [
    {
     "data": {
      "text/html": [
       "\n",
       "  <div id=\"df-3f024183-ba18-4348-9a34-6d280f79134b\" class=\"colab-df-container\">\n",
       "    <div>\n",
       "<style scoped>\n",
       "    .dataframe tbody tr th:only-of-type {\n",
       "        vertical-align: middle;\n",
       "    }\n",
       "\n",
       "    .dataframe tbody tr th {\n",
       "        vertical-align: top;\n",
       "    }\n",
       "\n",
       "    .dataframe thead th {\n",
       "        text-align: right;\n",
       "    }\n",
       "</style>\n",
       "<table border=\"1\" class=\"dataframe\">\n",
       "  <thead>\n",
       "    <tr style=\"text-align: right;\">\n",
       "      <th></th>\n",
       "      <th>title</th>\n",
       "      <th>url</th>\n",
       "      <th>abstract</th>\n",
       "      <th>body_text</th>\n",
       "      <th>body_html</th>\n",
       "    </tr>\n",
       "  </thead>\n",
       "  <tbody>\n",
       "    <tr>\n",
       "      <th>0</th>\n",
       "      <td>Викиучебник: Техника и технология средств масс...</td>\n",
       "      <td>https://ru.wikibooks.org/wiki/%D0%A2%D0%B5%D1%...</td>\n",
       "      <td>* [станция|Рабочая станция];</td>\n",
       "      <td>Рабочая станция;\\nСервер;\\nПерсональный компью...</td>\n",
       "      <td>&lt;div class=\"mw-parser-output\"&gt;&lt;ul&gt;&lt;li&gt;&lt;a href=...</td>\n",
       "    </tr>\n",
       "    <tr>\n",
       "      <th>1</th>\n",
       "      <td>Викиучебник: АОН/Пилотское свидетельство</td>\n",
       "      <td>https://ru.wikibooks.org/wiki/%D0%90%D0%9E%D0%...</td>\n",
       "      <td>Гражданское пилотское свидетельство - разрешен...</td>\n",
       "      <td>В Википедии имеется статья по теме «Свидетельс...</td>\n",
       "      <td>&lt;div class=\"mw-parser-output\"&gt;&lt;div class=\"info...</td>\n",
       "    </tr>\n",
       "    <tr>\n",
       "      <th>2</th>\n",
       "      <td>Викиучебник: Книга программиста/Структуры данн...</td>\n",
       "      <td>https://ru.wikibooks.org/wiki/%D0%9A%D0%BD%D0%...</td>\n",
       "      <td>К оглавлению</td>\n",
       "      <td>К оглавлению\\nВсе программы, код которых вылож...</td>\n",
       "      <td>&lt;div class=\"mw-parser-output\"&gt;&lt;p&gt;&lt;a href=\"/wik...</td>\n",
       "    </tr>\n",
       "    <tr>\n",
       "      <th>3</th>\n",
       "      <td>Викиучебник: Тесты НМО/Гигиенические основы и ...</td>\n",
       "      <td>https://ru.wikibooks.org/wiki/%D0%A2%D0%B5%D1%...</td>\n",
       "      <td>Гигиенические основы и медицинский контроль за...</td>\n",
       "      <td>Гигиенические основы и медицинский контроль за...</td>\n",
       "      <td>&lt;div class=\"mw-parser-output\"&gt;&lt;p&gt;&lt;b&gt;Гигиеничес...</td>\n",
       "    </tr>\n",
       "    <tr>\n",
       "      <th>4</th>\n",
       "      <td>Викиучебник: Коктейли/Пенная фея</td>\n",
       "      <td>https://ru.wikibooks.org/wiki/%D0%9A%D0%BE%D0%...</td>\n",
       "      <td>Пенная фея</td>\n",
       "      <td>Пенная фея\\n\\nДжин Old Tom — 60 г\\nАбсент — 15...</td>\n",
       "      <td>&lt;div class=\"mw-parser-output\"&gt;&lt;p&gt;&lt;b&gt;Пенная фея...</td>\n",
       "    </tr>\n",
       "  </tbody>\n",
       "</table>\n",
       "</div>\n",
       "    <div class=\"colab-df-buttons\">\n",
       "\n",
       "  <div class=\"colab-df-container\">\n",
       "    <button class=\"colab-df-convert\" onclick=\"convertToInteractive('df-3f024183-ba18-4348-9a34-6d280f79134b')\"\n",
       "            title=\"Convert this dataframe to an interactive table.\"\n",
       "            style=\"display:none;\">\n",
       "\n",
       "  <svg xmlns=\"http://www.w3.org/2000/svg\" height=\"24px\" viewBox=\"0 -960 960 960\">\n",
       "    <path d=\"M120-120v-720h720v720H120Zm60-500h600v-160H180v160Zm220 220h160v-160H400v160Zm0 220h160v-160H400v160ZM180-400h160v-160H180v160Zm440 0h160v-160H620v160ZM180-180h160v-160H180v160Zm440 0h160v-160H620v160Z\"/>\n",
       "  </svg>\n",
       "    </button>\n",
       "\n",
       "  <style>\n",
       "    .colab-df-container {\n",
       "      display:flex;\n",
       "      gap: 12px;\n",
       "    }\n",
       "\n",
       "    .colab-df-convert {\n",
       "      background-color: #E8F0FE;\n",
       "      border: none;\n",
       "      border-radius: 50%;\n",
       "      cursor: pointer;\n",
       "      display: none;\n",
       "      fill: #1967D2;\n",
       "      height: 32px;\n",
       "      padding: 0 0 0 0;\n",
       "      width: 32px;\n",
       "    }\n",
       "\n",
       "    .colab-df-convert:hover {\n",
       "      background-color: #E2EBFA;\n",
       "      box-shadow: 0px 1px 2px rgba(60, 64, 67, 0.3), 0px 1px 3px 1px rgba(60, 64, 67, 0.15);\n",
       "      fill: #174EA6;\n",
       "    }\n",
       "\n",
       "    .colab-df-buttons div {\n",
       "      margin-bottom: 4px;\n",
       "    }\n",
       "\n",
       "    [theme=dark] .colab-df-convert {\n",
       "      background-color: #3B4455;\n",
       "      fill: #D2E3FC;\n",
       "    }\n",
       "\n",
       "    [theme=dark] .colab-df-convert:hover {\n",
       "      background-color: #434B5C;\n",
       "      box-shadow: 0px 1px 3px 1px rgba(0, 0, 0, 0.15);\n",
       "      filter: drop-shadow(0px 1px 2px rgba(0, 0, 0, 0.3));\n",
       "      fill: #FFFFFF;\n",
       "    }\n",
       "  </style>\n",
       "\n",
       "    <script>\n",
       "      const buttonEl =\n",
       "        document.querySelector('#df-3f024183-ba18-4348-9a34-6d280f79134b button.colab-df-convert');\n",
       "      buttonEl.style.display =\n",
       "        google.colab.kernel.accessAllowed ? 'block' : 'none';\n",
       "\n",
       "      async function convertToInteractive(key) {\n",
       "        const element = document.querySelector('#df-3f024183-ba18-4348-9a34-6d280f79134b');\n",
       "        const dataTable =\n",
       "          await google.colab.kernel.invokeFunction('convertToInteractive',\n",
       "                                                    [key], {});\n",
       "        if (!dataTable) return;\n",
       "\n",
       "        const docLinkHtml = 'Like what you see? Visit the ' +\n",
       "          '<a target=\"_blank\" href=https://colab.research.google.com/notebooks/data_table.ipynb>data table notebook</a>'\n",
       "          + ' to learn more about interactive tables.';\n",
       "        element.innerHTML = '';\n",
       "        dataTable['output_type'] = 'display_data';\n",
       "        await google.colab.output.renderOutput(dataTable, element);\n",
       "        const docLink = document.createElement('div');\n",
       "        docLink.innerHTML = docLinkHtml;\n",
       "        element.appendChild(docLink);\n",
       "      }\n",
       "    </script>\n",
       "  </div>\n",
       "\n",
       "\n",
       "<div id=\"df-38cc0377-ca2f-4d81-831f-4745c7eff266\">\n",
       "  <button class=\"colab-df-quickchart\" onclick=\"quickchart('df-38cc0377-ca2f-4d81-831f-4745c7eff266')\"\n",
       "            title=\"Suggest charts\"\n",
       "            style=\"display:none;\">\n",
       "\n",
       "<svg xmlns=\"http://www.w3.org/2000/svg\" height=\"24px\"viewBox=\"0 0 24 24\"\n",
       "     width=\"24px\">\n",
       "    <g>\n",
       "        <path d=\"M19 3H5c-1.1 0-2 .9-2 2v14c0 1.1.9 2 2 2h14c1.1 0 2-.9 2-2V5c0-1.1-.9-2-2-2zM9 17H7v-7h2v7zm4 0h-2V7h2v10zm4 0h-2v-4h2v4z\"/>\n",
       "    </g>\n",
       "</svg>\n",
       "  </button>\n",
       "\n",
       "<style>\n",
       "  .colab-df-quickchart {\n",
       "      --bg-color: #E8F0FE;\n",
       "      --fill-color: #1967D2;\n",
       "      --hover-bg-color: #E2EBFA;\n",
       "      --hover-fill-color: #174EA6;\n",
       "      --disabled-fill-color: #AAA;\n",
       "      --disabled-bg-color: #DDD;\n",
       "  }\n",
       "\n",
       "  [theme=dark] .colab-df-quickchart {\n",
       "      --bg-color: #3B4455;\n",
       "      --fill-color: #D2E3FC;\n",
       "      --hover-bg-color: #434B5C;\n",
       "      --hover-fill-color: #FFFFFF;\n",
       "      --disabled-bg-color: #3B4455;\n",
       "      --disabled-fill-color: #666;\n",
       "  }\n",
       "\n",
       "  .colab-df-quickchart {\n",
       "    background-color: var(--bg-color);\n",
       "    border: none;\n",
       "    border-radius: 50%;\n",
       "    cursor: pointer;\n",
       "    display: none;\n",
       "    fill: var(--fill-color);\n",
       "    height: 32px;\n",
       "    padding: 0;\n",
       "    width: 32px;\n",
       "  }\n",
       "\n",
       "  .colab-df-quickchart:hover {\n",
       "    background-color: var(--hover-bg-color);\n",
       "    box-shadow: 0 1px 2px rgba(60, 64, 67, 0.3), 0 1px 3px 1px rgba(60, 64, 67, 0.15);\n",
       "    fill: var(--button-hover-fill-color);\n",
       "  }\n",
       "\n",
       "  .colab-df-quickchart-complete:disabled,\n",
       "  .colab-df-quickchart-complete:disabled:hover {\n",
       "    background-color: var(--disabled-bg-color);\n",
       "    fill: var(--disabled-fill-color);\n",
       "    box-shadow: none;\n",
       "  }\n",
       "\n",
       "  .colab-df-spinner {\n",
       "    border: 2px solid var(--fill-color);\n",
       "    border-color: transparent;\n",
       "    border-bottom-color: var(--fill-color);\n",
       "    animation:\n",
       "      spin 1s steps(1) infinite;\n",
       "  }\n",
       "\n",
       "  @keyframes spin {\n",
       "    0% {\n",
       "      border-color: transparent;\n",
       "      border-bottom-color: var(--fill-color);\n",
       "      border-left-color: var(--fill-color);\n",
       "    }\n",
       "    20% {\n",
       "      border-color: transparent;\n",
       "      border-left-color: var(--fill-color);\n",
       "      border-top-color: var(--fill-color);\n",
       "    }\n",
       "    30% {\n",
       "      border-color: transparent;\n",
       "      border-left-color: var(--fill-color);\n",
       "      border-top-color: var(--fill-color);\n",
       "      border-right-color: var(--fill-color);\n",
       "    }\n",
       "    40% {\n",
       "      border-color: transparent;\n",
       "      border-right-color: var(--fill-color);\n",
       "      border-top-color: var(--fill-color);\n",
       "    }\n",
       "    60% {\n",
       "      border-color: transparent;\n",
       "      border-right-color: var(--fill-color);\n",
       "    }\n",
       "    80% {\n",
       "      border-color: transparent;\n",
       "      border-right-color: var(--fill-color);\n",
       "      border-bottom-color: var(--fill-color);\n",
       "    }\n",
       "    90% {\n",
       "      border-color: transparent;\n",
       "      border-bottom-color: var(--fill-color);\n",
       "    }\n",
       "  }\n",
       "</style>\n",
       "\n",
       "  <script>\n",
       "    async function quickchart(key) {\n",
       "      const quickchartButtonEl =\n",
       "        document.querySelector('#' + key + ' button');\n",
       "      quickchartButtonEl.disabled = true;  // To prevent multiple clicks.\n",
       "      quickchartButtonEl.classList.add('colab-df-spinner');\n",
       "      try {\n",
       "        const charts = await google.colab.kernel.invokeFunction(\n",
       "            'suggestCharts', [key], {});\n",
       "      } catch (error) {\n",
       "        console.error('Error during call to suggestCharts:', error);\n",
       "      }\n",
       "      quickchartButtonEl.classList.remove('colab-df-spinner');\n",
       "      quickchartButtonEl.classList.add('colab-df-quickchart-complete');\n",
       "    }\n",
       "    (() => {\n",
       "      let quickchartButtonEl =\n",
       "        document.querySelector('#df-38cc0377-ca2f-4d81-831f-4745c7eff266 button');\n",
       "      quickchartButtonEl.style.display =\n",
       "        google.colab.kernel.accessAllowed ? 'block' : 'none';\n",
       "    })();\n",
       "  </script>\n",
       "</div>\n",
       "    </div>\n",
       "  </div>\n"
      ],
      "text/plain": [
       "                                               title  \\\n",
       "0  Викиучебник: Техника и технология средств масс...   \n",
       "1           Викиучебник: АОН/Пилотское свидетельство   \n",
       "2  Викиучебник: Книга программиста/Структуры данн...   \n",
       "3  Викиучебник: Тесты НМО/Гигиенические основы и ...   \n",
       "4                   Викиучебник: Коктейли/Пенная фея   \n",
       "\n",
       "                                                 url  \\\n",
       "0  https://ru.wikibooks.org/wiki/%D0%A2%D0%B5%D1%...   \n",
       "1  https://ru.wikibooks.org/wiki/%D0%90%D0%9E%D0%...   \n",
       "2  https://ru.wikibooks.org/wiki/%D0%9A%D0%BD%D0%...   \n",
       "3  https://ru.wikibooks.org/wiki/%D0%A2%D0%B5%D1%...   \n",
       "4  https://ru.wikibooks.org/wiki/%D0%9A%D0%BE%D0%...   \n",
       "\n",
       "                                            abstract  \\\n",
       "0                       * [станция|Рабочая станция];   \n",
       "1  Гражданское пилотское свидетельство - разрешен...   \n",
       "2                                       К оглавлению   \n",
       "3  Гигиенические основы и медицинский контроль за...   \n",
       "4                                         Пенная фея   \n",
       "\n",
       "                                           body_text  \\\n",
       "0  Рабочая станция;\\nСервер;\\nПерсональный компью...   \n",
       "1  В Википедии имеется статья по теме «Свидетельс...   \n",
       "2  К оглавлению\\nВсе программы, код которых вылож...   \n",
       "3  Гигиенические основы и медицинский контроль за...   \n",
       "4  Пенная фея\\n\\nДжин Old Tom — 60 г\\nАбсент — 15...   \n",
       "\n",
       "                                           body_html  \n",
       "0  <div class=\"mw-parser-output\"><ul><li><a href=...  \n",
       "1  <div class=\"mw-parser-output\"><div class=\"info...  \n",
       "2  <div class=\"mw-parser-output\"><p><a href=\"/wik...  \n",
       "3  <div class=\"mw-parser-output\"><p><b>Гигиеничес...  \n",
       "4  <div class=\"mw-parser-output\"><p><b>Пенная фея...  "
      ]
     },
     "metadata": {},
     "output_type": "display_data"
    }
   ],
   "source": [
    "con = sqlite3.connect('/content/wikibooks.sqlite')\n",
    "cur = con.cursor()\n",
    "try:\n",
    "  cur.execute(\"\"\"SELECT * FROM ru\"\"\")\n",
    "  fa = cur.fetchall()\n",
    "  columns = [i[0] for i in cur.description]\n",
    "  data = pd.DataFrame(fa, columns=columns)\n",
    "  display(data.head())\n",
    "except sqlite3.DatabaseError as error:\n",
    "  print(\"Ошибка:\", error)\n",
    "finally:\n",
    "  cur.close()\n",
    "  con.close()\n",
    "text = data['body_text'].str.cat(sep=' ').lower()"
   ]
  },
  {
   "cell_type": "code",
   "execution_count": 37,
   "metadata": {
    "colab": {
     "base_uri": "https://localhost:8080/"
    },
    "executionInfo": {
     "elapsed": 74428,
     "status": "ok",
     "timestamp": 1700070275760,
     "user": {
      "displayName": "Flyer Kon",
      "userId": "03371542717507711709"
     },
     "user_tz": -180
    },
    "id": "pkDY8aM5CWx2",
    "outputId": "9f333316-9c35-473a-e829-7b95118d70c5"
   },
   "outputs": [
    {
     "name": "stdout",
     "output_type": "stream",
     "text": [
      "Длина текста: 41907187\n",
      "['<unk>', ' ', '!', '\"', '(', ')', ',', '-', '.', ':', ';', '?', 'а', 'б', 'в', 'г', 'д', 'е', 'ж', 'з', 'и', 'й', 'к', 'л', 'м', 'н', 'о', 'п', 'р', 'с', 'т', 'у', 'ф', 'х', 'ц', 'ч', 'ш', 'щ', 'ъ', 'ы', 'ь', 'э', 'ю', 'я', 'ё']\n",
      "Всего последовательностей: 4190716\n",
      "Размеры Тензоров: torch.Size([4190716, 30, 1]) torch.Size([4190716])\n",
      "Размеры батчей: torch.Size([1024, 30, 1]) torch.Size([1024])\n"
     ]
    }
   ],
   "source": [
    "# очистка текста от всего, кроме кириллицы и пунктуации\n",
    "text = re.sub(r'[^а-яё\\s,.!?()\\\"\\\":;-]', ' ', text)\n",
    "text = re.sub(r'[\\s]+', ' ', text)\n",
    "print(\"Длина текста:\", len(text))\n",
    "vocab = build_vocab_from_iterator([sorted(Counter(text))], min_freq=1,\n",
    "                                  specials=[\"<unk>\"])\n",
    "vocab.set_default_index(vocab[\"<unk>\"])\n",
    "print(vocab.get_itos())\n",
    "\n",
    "maxlen = 30\n",
    "step = 10\n",
    "X_train, Y_train = [], []\n",
    "# получение последовательности в 30 символов каждые 10 символа\n",
    "for i in range(0, len(text) - maxlen, step):\n",
    "    # сохранение последовательности символов\n",
    "    X_train.append(vocab(list(text[i: i + maxlen])))\n",
    "    # сохранение первого символа после последовательности\n",
    "    Y_train.append(vocab(list(text[i + maxlen])))\n",
    "\n",
    "print(\"Всего последовательностей:\", len(X_train))\n",
    "# преобразование полученных чисел в тензоры\n",
    "X_train = torch.tensor(X_train, dtype=torch.float32)\n",
    "Y_train = torch.tensor(Y_train)\n",
    "# дополнительное измерение для lstm слоя\n",
    "X_train = X_train.reshape(X_train.shape[0], X_train.shape[1], 1)\n",
    "Y_train = Y_train.reshape(Y_train.shape[0])\n",
    "print(\"Размеры Тензоров:\", X_train.shape, Y_train.shape)\n",
    "vector_X = TensorDataset(X_train, Y_train)\n",
    "train_loader = DataLoader(vector_X, batch_size=1024, shuffle=False)\n",
    "for X, Y in train_loader:\n",
    "    print(\"Размеры батчей:\", X.shape, Y.shape)\n",
    "    break"
   ]
  },
  {
   "cell_type": "markdown",
   "metadata": {
    "id": "RgXD5BFlhxDN"
   },
   "source": [
    "Будем обучать модель на 4 миллионах очищенных данных. Целевая переменная - буква кириллицы или знак пунктуации."
   ]
  },
  {
   "cell_type": "code",
   "execution_count": 38,
   "metadata": {
    "colab": {
     "base_uri": "https://localhost:8080/"
    },
    "executionInfo": {
     "elapsed": 2593213,
     "status": "ok",
     "timestamp": 1700073455220,
     "user": {
      "displayName": "Flyer Kon",
      "userId": "03371542717507711709"
     },
     "user_tz": -180
    },
    "id": "EbqlyD0dHiPF",
    "outputId": "6237f6ef-990b-4633-80d0-253729958599"
   },
   "outputs": [
    {
     "name": "stdout",
     "output_type": "stream",
     "text": [
      "TextGeneratorLetters(\n",
      "  (lstm): LSTM(1, 256, num_layers=2, batch_first=True)\n",
      "  (dropout): Dropout(p=0.25, inplace=False)\n",
      "  (linear): Linear(in_features=256, out_features=45, bias=True)\n",
      ")\n"
     ]
    },
    {
     "name": "stderr",
     "output_type": "stream",
     "text": [
      "100%|██████████| 4093/4093 [04:18<00:00, 15.83it/s]\n"
     ]
    },
    {
     "name": "stdout",
     "output_type": "stream",
     "text": [
      "Эпоха: 1 | Ошибка : 2.502\n",
      "\u001b[92m Стартовый текст: асштабам проект. никому в то в\n",
      "\u001b[91m Генерация:  оаразение процессвоение процессвенной польтой проводни и просоятия и постедние представления переме\n"
     ]
    },
    {
     "name": "stderr",
     "output_type": "stream",
     "text": [
      "100%|██████████| 4093/4093 [04:19<00:00, 15.77it/s]\n"
     ]
    },
    {
     "name": "stdout",
     "output_type": "stream",
     "text": [
      "Эпоха: 2 | Ошибка : 2.061\n",
      "\u001b[92m Стартовый текст: асштабам проект. никому в то в\n",
      "\u001b[91m Генерация: ыбора постояние прододство процесси при продолжением и продрамма просода проценски в образом и проце\n"
     ]
    },
    {
     "name": "stderr",
     "output_type": "stream",
     "text": [
      "100%|██████████| 4093/4093 [04:18<00:00, 15.83it/s]\n"
     ]
    },
    {
     "name": "stdout",
     "output_type": "stream",
     "text": [
      "Эпоха: 3 | Ошибка : 1.913\n",
      "\u001b[92m Стартовый текст: асштабам проект. никому в то в\n",
      "\u001b[91m Генерация: сем поддерживаются программерной секущественно по программерные процедуры и прогоаммирование пользов\n"
     ]
    },
    {
     "name": "stderr",
     "output_type": "stream",
     "text": [
      "100%|██████████| 4093/4093 [04:19<00:00, 15.76it/s]\n"
     ]
    },
    {
     "name": "stdout",
     "output_type": "stream",
     "text": [
      "Эпоха: 4 | Ошибка : 1.829\n",
      "\u001b[92m Стартовый текст: асштабам проект. никому в то в\n",
      "\u001b[91m Генерация: оеможность проводится в строки программы программа провраммирования просивопостивного подавает продо\n"
     ]
    },
    {
     "name": "stderr",
     "output_type": "stream",
     "text": [
      "100%|██████████| 4093/4093 [04:19<00:00, 15.75it/s]\n"
     ]
    },
    {
     "name": "stdout",
     "output_type": "stream",
     "text": [
      "Эпоха: 5 | Ошибка : 1.772\n",
      "\u001b[92m Стартовый текст: асштабам проект. никому в то в\n",
      "\u001b[91m Генерация: ысокает представление править выберите один из процесса противопосатательность пространственность пр\n"
     ]
    },
    {
     "name": "stderr",
     "output_type": "stream",
     "text": [
      "100%|██████████| 4093/4093 [04:19<00:00, 15.75it/s]\n"
     ]
    },
    {
     "name": "stdout",
     "output_type": "stream",
     "text": [
      "Эпоха: 6 | Ошибка : 1.730\n",
      "\u001b[92m Стартовый текст: асштабам проект. никому в то в\n",
      "\u001b[91m Генерация: ыборов по отношении программы программированного подробности продукты по образом программирования пр\n"
     ]
    },
    {
     "name": "stderr",
     "output_type": "stream",
     "text": [
      "100%|██████████| 4093/4093 [04:19<00:00, 15.75it/s]\n"
     ]
    },
    {
     "name": "stdout",
     "output_type": "stream",
     "text": [
      "Эпоха: 7 | Ошибка : 1.696\n",
      "\u001b[92m Стартовый текст: асштабам проект. никому в то в\n",
      "\u001b[91m Генерация: ещественных системы править после пространства программы программа править процесса править выберите\n"
     ]
    },
    {
     "name": "stderr",
     "output_type": "stream",
     "text": [
      "100%|██████████| 4093/4093 [04:18<00:00, 15.85it/s]\n"
     ]
    },
    {
     "name": "stdout",
     "output_type": "stream",
     "text": [
      "Эпоха: 8 | Ошибка : 1.671\n",
      "\u001b[92m Стартовый текст: асштабам проект. никому в то в\n",
      "\u001b[91m Генерация: елосоддо примечания противогазных степени программиров в составление по серверам по образом прогоамм\n"
     ]
    },
    {
     "name": "stderr",
     "output_type": "stream",
     "text": [
      "100%|██████████| 4093/4093 [04:18<00:00, 15.82it/s]\n"
     ]
    },
    {
     "name": "stdout",
     "output_type": "stream",
     "text": [
      "Эпоха: 9 | Ошибка : 1.649\n",
      "\u001b[92m Стартовый текст: асштабам проект. никому в то в\n",
      "\u001b[91m Генерация: ессия при помощи производственной серверах и получения программирования процесса проверки программы \n"
     ]
    },
    {
     "name": "stderr",
     "output_type": "stream",
     "text": [
      "100%|██████████| 4093/4093 [04:18<00:00, 15.85it/s]\n"
     ]
    },
    {
     "name": "stdout",
     "output_type": "stream",
     "text": [
      "Эпоха: 10 | Ошибка : 1.631\n",
      "\u001b[92m Стартовый текст: асштабам проект. никому в то в\n",
      "\u001b[91m Генерация: елтора продажа проверяются в своих строки происходит подавать полазывающийся провериальные сервера п\n"
     ]
    }
   ],
   "source": [
    "model = TextGeneratorLetters().to(device)\n",
    "print(model)\n",
    "train(model, train_loader, 10, 1e-3, X_train, vocab)"
   ]
  },
  {
   "cell_type": "code",
   "execution_count": 39,
   "metadata": {
    "colab": {
     "base_uri": "https://localhost:8080/"
    },
    "executionInfo": {
     "elapsed": 2587085,
     "status": "ok",
     "timestamp": 1700076042976,
     "user": {
      "displayName": "Flyer Kon",
      "userId": "03371542717507711709"
     },
     "user_tz": -180
    },
    "id": "9e5bXb2PNvBL",
    "outputId": "ec24f62e-01d2-4e3e-ea35-3f27af8b0f9f"
   },
   "outputs": [
    {
     "name": "stderr",
     "output_type": "stream",
     "text": [
      "100%|██████████| 4093/4093 [04:18<00:00, 15.84it/s]\n"
     ]
    },
    {
     "name": "stdout",
     "output_type": "stream",
     "text": [
      "Эпоха: 1 | Ошибка : 1.592\n",
      "\u001b[92m Стартовый текст: асштабам проект. никому в то в\n",
      "\u001b[91m Генерация: ертии состояния по семуерани и процесс против продуктов править выберите один ответ: . . . . . . . .\n"
     ]
    },
    {
     "name": "stderr",
     "output_type": "stream",
     "text": [
      "100%|██████████| 4093/4093 [04:18<00:00, 15.85it/s]\n"
     ]
    },
    {
     "name": "stdout",
     "output_type": "stream",
     "text": [
      "Эпоха: 2 | Ошибка : 1.581\n",
      "\u001b[92m Стартовый текст: асштабам проект. никому в то в\n",
      "\u001b[91m Генерация: озможность простой строки править выберите один ответ: . . . . . . . . . . . . . . . . . . . . . . .\n"
     ]
    },
    {
     "name": "stderr",
     "output_type": "stream",
     "text": [
      "100%|██████████| 4093/4093 [04:18<00:00, 15.86it/s]\n"
     ]
    },
    {
     "name": "stdout",
     "output_type": "stream",
     "text": [
      "Эпоха: 3 | Ошибка : 1.574\n",
      "\u001b[92m Стартовый текст: асштабам проект. никому в то в\n",
      "\u001b[91m Генерация: сего положительные строки по общем станции при положительном строки производится в статье при послед\n"
     ]
    },
    {
     "name": "stderr",
     "output_type": "stream",
     "text": [
      "100%|██████████| 4093/4093 [04:18<00:00, 15.84it/s]\n"
     ]
    },
    {
     "name": "stdout",
     "output_type": "stream",
     "text": [
      "Эпоха: 4 | Ошибка : 1.568\n",
      "\u001b[92m Стартовый текст: асштабам проект. никому в то в\n",
      "\u001b[91m Генерация: ероятность проведения применения программирования по средство при пространстве получения полазателей\n"
     ]
    },
    {
     "name": "stderr",
     "output_type": "stream",
     "text": [
      "100%|██████████| 4093/4093 [04:18<00:00, 15.82it/s]\n"
     ]
    },
    {
     "name": "stdout",
     "output_type": "stream",
     "text": [
      "Эпоха: 5 | Ошибка : 1.563\n",
      "\u001b[92m Стартовый текст: асштабам проект. никому в то в\n",
      "\u001b[91m Генерация: ероятность производства программирования править править выберите один правильный ответ по стороными\n"
     ]
    },
    {
     "name": "stderr",
     "output_type": "stream",
     "text": [
      "100%|██████████| 4093/4093 [04:19<00:00, 15.77it/s]\n"
     ]
    },
    {
     "name": "stdout",
     "output_type": "stream",
     "text": [
      "Эпоха: 6 | Ошибка : 1.557\n",
      "\u001b[92m Стартовый текст: асштабам проект. никому в то в\n",
      "\u001b[91m Генерация: ершин проверка программы при помощи процессов проверки программирования программирования происходит \n"
     ]
    },
    {
     "name": "stderr",
     "output_type": "stream",
     "text": [
      "100%|██████████| 4093/4093 [04:18<00:00, 15.82it/s]\n"
     ]
    },
    {
     "name": "stdout",
     "output_type": "stream",
     "text": [
      "Эпоха: 7 | Ошибка : 1.553\n",
      "\u001b[92m Стартовый текст: асштабам проект. никому в то в\n",
      "\u001b[91m Генерация: естикально при помощи компонентов проверка править выберите один правильный ответ из статья править \n"
     ]
    },
    {
     "name": "stderr",
     "output_type": "stream",
     "text": [
      "100%|██████████| 4093/4093 [04:19<00:00, 15.79it/s]\n"
     ]
    },
    {
     "name": "stdout",
     "output_type": "stream",
     "text": [
      "Эпоха: 8 | Ошибка : 1.548\n",
      "\u001b[92m Стартовый текст: асштабам проект. никому в то в\n",
      "\u001b[91m Генерация: се от представления при помощью составляет порледовательность предположительно по строми править выб\n"
     ]
    },
    {
     "name": "stderr",
     "output_type": "stream",
     "text": [
      "100%|██████████| 4093/4093 [04:18<00:00, 15.84it/s]\n"
     ]
    },
    {
     "name": "stdout",
     "output_type": "stream",
     "text": [
      "Эпоха: 9 | Ошибка : 1.544\n",
      "\u001b[92m Стартовый текст: асштабам проект. никому в то в\n",
      "\u001b[91m Генерация: ерхней человек производственных систем и производства и проведения проверка просто процедуры простра\n"
     ]
    },
    {
     "name": "stderr",
     "output_type": "stream",
     "text": [
      "100%|██████████| 4093/4093 [04:17<00:00, 15.88it/s]\n"
     ]
    },
    {
     "name": "stdout",
     "output_type": "stream",
     "text": [
      "Эпоха: 10 | Ошибка : 1.540\n",
      "\u001b[92m Стартовый текст: асштабам проект. никому в то в\n",
      "\u001b[91m Генерация: ремя положения при приводит к просто образуются составляющий клетки при проведении простого процессо\n"
     ]
    }
   ],
   "source": [
    "train(model, train_loader, 10, 3e-4, X_train, vocab)"
   ]
  },
  {
   "cell_type": "markdown",
   "metadata": {
    "id": "lOl0asGPdlnh"
   },
   "source": [
    "Модель обучилась до достаточно низкого значения ошибки. Она генерирует осмысленные слова, но не последовательности слов."
   ]
  }
 ],
 "metadata": {
  "accelerator": "GPU",
  "colab": {
   "gpuType": "T4",
   "provenance": [],
   "toc_visible": true
  },
  "kernelspec": {
   "display_name": "Python 3 (ipykernel)",
   "language": "python",
   "name": "python3"
  },
  "language_info": {
   "codemirror_mode": {
    "name": "ipython",
    "version": 3
   },
   "file_extension": ".py",
   "mimetype": "text/x-python",
   "name": "python",
   "nbconvert_exporter": "python",
   "pygments_lexer": "ipython3",
   "version": "3.9.13"
  }
 },
 "nbformat": 4,
 "nbformat_minor": 1
}
